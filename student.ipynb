{
 "cells": [
  {
   "cell_type": "markdown",
   "metadata": {},
   "source": [
    "# Classification Model for Churn Analysis\n",
    "- Author: Jonathan Holt"
   ]
  },
  {
   "cell_type": "markdown",
   "metadata": {},
   "source": [
    "## Business Problem"
   ]
  },
  {
   "cell_type": "markdown",
   "metadata": {},
   "source": [
    "SyriaTel is a telecomunications company that is concerned with the amount of customers that are leaving their service. (ie, Churn). They have provided a dataset of their most recent data which has 14.5% of the customers leaving during the time period captured in the dataset. I have been tasked with analyzing the data and looking for any areas where Churn is significant, and make recommendations as to what SyriaTel can do to greatly reduce the rate of churn in its customers."
   ]
  },
  {
   "cell_type": "markdown",
   "metadata": {},
   "source": [
    "## The Data"
   ]
  },
  {
   "cell_type": "markdown",
   "metadata": {},
   "source": [
    "The dataset that I was given to work with contains information for 3333 accounts, including:\n",
    "- State\n",
    "- Account Length\n",
    "- Area Code\n",
    "- Phone Number\n",
    "- Extra Plans (VoiceMail and/or International)\n",
    "- Minutes Used (Day, Evening, Night, International)\n",
    "- Number of Calls (Day, Evening, Night, International)\n",
    "- Number of VoiceMail Messages\n",
    "- Total Amount Charged for minutes used (Day, Evening, Night, International)\n",
    "- Number of calls to Customer Service\n",
    "\n",
    "and most importantly:\n",
    "- Churn: Customers who cancelled their service."
   ]
  },
  {
   "cell_type": "markdown",
   "metadata": {},
   "source": [
    "## Questions to Answer\n",
    "1. What is the Baseline Churn Rate?\n",
    "2. What factors contribute to churn?\n",
    "3. What factors have the biggest impact on churn?\n",
    "4. What can be done to identify when a customer is at risk for churn?\n",
    "5. What can be done to prevent churn?"
   ]
  },
  {
   "cell_type": "markdown",
   "metadata": {},
   "source": [
    "## What I will be looking for in my models\n",
    "1. <b>High Recall Score:</b> I want my model to be able to predict which customers are at risk of churning. If it is tuned to be too sensitive in this area, that is fine. I would rather flag customers that aren't going to churn rather than focus on the customers that are likely to stay, and ending up with unexpected churn. I will keep this in balance by checking F1 Score.\n",
    "\n",
    "2. <b>Good F1 Score:</b>While I am ultimately not concerned with Precision (how well the model predicts customers that will stay), a good F1 score means that the model is performing well on both Recall and Precision. Since Recall and Precision are inverses of each other, a good F1 score ensures that the model isn't skewed too far toward one or the other. (ie, a model that predicts EVERY customer will churn would have perfect Recall, but would be useless).\n",
    "\n",
    "3. <b>High Cross Validation Score:</b> This ensures that the model isn't overly trained on the test data and that it does a good job of predicted unseen and unknown data. (ie, the test set).\n",
    "\n",
    "4. <b>Area Under the Curve (AUC):</b> The ROC AUC Score measures the Area under the ROC curve, which means that it classifies the true positive rate against the false positive rate. The higher the score, the better performing the model is. That said, here is the scale that I will use to evaluate my models:\n",
    "- <u><b>.69 or less:</u></b> Model performs only slightly better than guessing and is worthless for my analysis.\n",
    "- <u><b>.70 - .79:</u></b> Model still isn't performing very well, but is at minimum acceptable levels.\n",
    "- <u><b>.80 - .89:</u></b> Model is performing fairly well. My goal is to be in this range or better.\n",
    "- <u><b>.90 - .99:</u></b> Model is performing very well. I would be very happy to have a final model in this range."
   ]
  },
  {
   "cell_type": "markdown",
   "metadata": {},
   "source": [
    "# Data Preparation"
   ]
  },
  {
   "cell_type": "markdown",
   "metadata": {},
   "source": [
    "## Importing"
   ]
  },
  {
   "cell_type": "code",
   "execution_count": 1,
   "metadata": {
    "ExecuteTime": {
     "end_time": "2022-03-04T05:33:30.908594Z",
     "start_time": "2022-03-04T05:33:29.697955Z"
    }
   },
   "outputs": [],
   "source": [
    "import pandas as pd\n",
    "import seaborn as sns\n",
    "import numpy as np\n",
    "import matplotlib.pyplot as plt\n",
    "%matplotlib inline\n",
    "import matplotlib.ticker as mtick\n",
    "from sklearn.model_selection import train_test_split, cross_val_score, GridSearchCV\n",
    "from sklearn.tree import DecisionTreeClassifier\n",
    "from sklearn.metrics import accuracy_score, mean_squared_error, mean_squared_log_error, roc_curve, auc\n",
    "from sklearn.metrics import precision_score, recall_score, accuracy_score, f1_score, classification_report\n",
    "from sklearn.metrics import confusion_matrix\n",
    "from sklearn.preprocessing import OneHotEncoder, StandardScaler\n",
    "from sklearn.linear_model import LinearRegression\n",
    "from sklearn.impute import SimpleImputer\n",
    "from sklearn import tree\n",
    "from sklearn.ensemble import RandomForestClassifier\n",
    "from imblearn.over_sampling import SMOTE\n",
    "from sklearn.metrics import plot_confusion_matrix\n",
    "from xgboost import XGBClassifier\n",
    "\n",
    "import warnings\n",
    "warnings.simplefilter(action='ignore', category=FutureWarning)"
   ]
  },
  {
   "cell_type": "code",
   "execution_count": 2,
   "metadata": {
    "ExecuteTime": {
     "end_time": "2022-03-04T05:33:30.911730Z",
     "start_time": "2022-03-04T05:33:30.909804Z"
    }
   },
   "outputs": [],
   "source": [
    "pd.set_option('display.max_rows', 1000) #change the amount of rows displayed\n",
    "plt.style.use('fivethirtyeight')"
   ]
  },
  {
   "cell_type": "code",
   "execution_count": 3,
   "metadata": {
    "ExecuteTime": {
     "end_time": "2022-03-04T05:33:30.944036Z",
     "start_time": "2022-03-04T05:33:30.913280Z"
    }
   },
   "outputs": [
    {
     "data": {
      "text/html": [
       "<div>\n",
       "<style scoped>\n",
       "    .dataframe tbody tr th:only-of-type {\n",
       "        vertical-align: middle;\n",
       "    }\n",
       "\n",
       "    .dataframe tbody tr th {\n",
       "        vertical-align: top;\n",
       "    }\n",
       "\n",
       "    .dataframe thead th {\n",
       "        text-align: right;\n",
       "    }\n",
       "</style>\n",
       "<table border=\"1\" class=\"dataframe\">\n",
       "  <thead>\n",
       "    <tr style=\"text-align: right;\">\n",
       "      <th></th>\n",
       "      <th>state</th>\n",
       "      <th>account length</th>\n",
       "      <th>area code</th>\n",
       "      <th>phone number</th>\n",
       "      <th>international plan</th>\n",
       "      <th>voice mail plan</th>\n",
       "      <th>number vmail messages</th>\n",
       "      <th>total day minutes</th>\n",
       "      <th>total day calls</th>\n",
       "      <th>total day charge</th>\n",
       "      <th>...</th>\n",
       "      <th>total eve calls</th>\n",
       "      <th>total eve charge</th>\n",
       "      <th>total night minutes</th>\n",
       "      <th>total night calls</th>\n",
       "      <th>total night charge</th>\n",
       "      <th>total intl minutes</th>\n",
       "      <th>total intl calls</th>\n",
       "      <th>total intl charge</th>\n",
       "      <th>customer service calls</th>\n",
       "      <th>churn</th>\n",
       "    </tr>\n",
       "  </thead>\n",
       "  <tbody>\n",
       "    <tr>\n",
       "      <th>0</th>\n",
       "      <td>KS</td>\n",
       "      <td>128</td>\n",
       "      <td>415</td>\n",
       "      <td>382-4657</td>\n",
       "      <td>no</td>\n",
       "      <td>yes</td>\n",
       "      <td>25</td>\n",
       "      <td>265.1</td>\n",
       "      <td>110</td>\n",
       "      <td>45.07</td>\n",
       "      <td>...</td>\n",
       "      <td>99</td>\n",
       "      <td>16.78</td>\n",
       "      <td>244.7</td>\n",
       "      <td>91</td>\n",
       "      <td>11.01</td>\n",
       "      <td>10.0</td>\n",
       "      <td>3</td>\n",
       "      <td>2.70</td>\n",
       "      <td>1</td>\n",
       "      <td>False</td>\n",
       "    </tr>\n",
       "    <tr>\n",
       "      <th>1</th>\n",
       "      <td>OH</td>\n",
       "      <td>107</td>\n",
       "      <td>415</td>\n",
       "      <td>371-7191</td>\n",
       "      <td>no</td>\n",
       "      <td>yes</td>\n",
       "      <td>26</td>\n",
       "      <td>161.6</td>\n",
       "      <td>123</td>\n",
       "      <td>27.47</td>\n",
       "      <td>...</td>\n",
       "      <td>103</td>\n",
       "      <td>16.62</td>\n",
       "      <td>254.4</td>\n",
       "      <td>103</td>\n",
       "      <td>11.45</td>\n",
       "      <td>13.7</td>\n",
       "      <td>3</td>\n",
       "      <td>3.70</td>\n",
       "      <td>1</td>\n",
       "      <td>False</td>\n",
       "    </tr>\n",
       "    <tr>\n",
       "      <th>2</th>\n",
       "      <td>NJ</td>\n",
       "      <td>137</td>\n",
       "      <td>415</td>\n",
       "      <td>358-1921</td>\n",
       "      <td>no</td>\n",
       "      <td>no</td>\n",
       "      <td>0</td>\n",
       "      <td>243.4</td>\n",
       "      <td>114</td>\n",
       "      <td>41.38</td>\n",
       "      <td>...</td>\n",
       "      <td>110</td>\n",
       "      <td>10.30</td>\n",
       "      <td>162.6</td>\n",
       "      <td>104</td>\n",
       "      <td>7.32</td>\n",
       "      <td>12.2</td>\n",
       "      <td>5</td>\n",
       "      <td>3.29</td>\n",
       "      <td>0</td>\n",
       "      <td>False</td>\n",
       "    </tr>\n",
       "    <tr>\n",
       "      <th>3</th>\n",
       "      <td>OH</td>\n",
       "      <td>84</td>\n",
       "      <td>408</td>\n",
       "      <td>375-9999</td>\n",
       "      <td>yes</td>\n",
       "      <td>no</td>\n",
       "      <td>0</td>\n",
       "      <td>299.4</td>\n",
       "      <td>71</td>\n",
       "      <td>50.90</td>\n",
       "      <td>...</td>\n",
       "      <td>88</td>\n",
       "      <td>5.26</td>\n",
       "      <td>196.9</td>\n",
       "      <td>89</td>\n",
       "      <td>8.86</td>\n",
       "      <td>6.6</td>\n",
       "      <td>7</td>\n",
       "      <td>1.78</td>\n",
       "      <td>2</td>\n",
       "      <td>False</td>\n",
       "    </tr>\n",
       "    <tr>\n",
       "      <th>4</th>\n",
       "      <td>OK</td>\n",
       "      <td>75</td>\n",
       "      <td>415</td>\n",
       "      <td>330-6626</td>\n",
       "      <td>yes</td>\n",
       "      <td>no</td>\n",
       "      <td>0</td>\n",
       "      <td>166.7</td>\n",
       "      <td>113</td>\n",
       "      <td>28.34</td>\n",
       "      <td>...</td>\n",
       "      <td>122</td>\n",
       "      <td>12.61</td>\n",
       "      <td>186.9</td>\n",
       "      <td>121</td>\n",
       "      <td>8.41</td>\n",
       "      <td>10.1</td>\n",
       "      <td>3</td>\n",
       "      <td>2.73</td>\n",
       "      <td>3</td>\n",
       "      <td>False</td>\n",
       "    </tr>\n",
       "  </tbody>\n",
       "</table>\n",
       "<p>5 rows × 21 columns</p>\n",
       "</div>"
      ],
      "text/plain": [
       "  state  account length  area code phone number international plan  \\\n",
       "0    KS             128        415     382-4657                 no   \n",
       "1    OH             107        415     371-7191                 no   \n",
       "2    NJ             137        415     358-1921                 no   \n",
       "3    OH              84        408     375-9999                yes   \n",
       "4    OK              75        415     330-6626                yes   \n",
       "\n",
       "  voice mail plan  number vmail messages  total day minutes  total day calls  \\\n",
       "0             yes                     25              265.1              110   \n",
       "1             yes                     26              161.6              123   \n",
       "2              no                      0              243.4              114   \n",
       "3              no                      0              299.4               71   \n",
       "4              no                      0              166.7              113   \n",
       "\n",
       "   total day charge  ...  total eve calls  total eve charge  \\\n",
       "0             45.07  ...               99             16.78   \n",
       "1             27.47  ...              103             16.62   \n",
       "2             41.38  ...              110             10.30   \n",
       "3             50.90  ...               88              5.26   \n",
       "4             28.34  ...              122             12.61   \n",
       "\n",
       "   total night minutes  total night calls  total night charge  \\\n",
       "0                244.7                 91               11.01   \n",
       "1                254.4                103               11.45   \n",
       "2                162.6                104                7.32   \n",
       "3                196.9                 89                8.86   \n",
       "4                186.9                121                8.41   \n",
       "\n",
       "   total intl minutes  total intl calls  total intl charge  \\\n",
       "0                10.0                 3               2.70   \n",
       "1                13.7                 3               3.70   \n",
       "2                12.2                 5               3.29   \n",
       "3                 6.6                 7               1.78   \n",
       "4                10.1                 3               2.73   \n",
       "\n",
       "   customer service calls  churn  \n",
       "0                       1  False  \n",
       "1                       1  False  \n",
       "2                       0  False  \n",
       "3                       2  False  \n",
       "4                       3  False  \n",
       "\n",
       "[5 rows x 21 columns]"
      ]
     },
     "execution_count": 3,
     "metadata": {},
     "output_type": "execute_result"
    }
   ],
   "source": [
    "df = pd.read_csv('bigml_59c28831336c6604c800002a.csv')\n",
    "df.head()"
   ]
  },
  {
   "cell_type": "markdown",
   "metadata": {},
   "source": [
    "## Fixing column names"
   ]
  },
  {
   "cell_type": "code",
   "execution_count": 4,
   "metadata": {
    "ExecuteTime": {
     "end_time": "2022-03-04T05:33:30.948385Z",
     "start_time": "2022-03-04T05:33:30.945322Z"
    }
   },
   "outputs": [
    {
     "data": {
      "text/plain": [
       "Index(['state', 'account_length', 'area_code', 'phone_number',\n",
       "       'international_plan', 'voice_mail_plan', 'number_vmail_messages',\n",
       "       'total_day_minutes', 'total_day_calls', 'total_day_charge',\n",
       "       'total_eve_minutes', 'total_eve_calls', 'total_eve_charge',\n",
       "       'total_night_minutes', 'total_night_calls', 'total_night_charge',\n",
       "       'total_intl_minutes', 'total_intl_calls', 'total_intl_charge',\n",
       "       'customer_service_calls', 'churn'],\n",
       "      dtype='object')"
      ]
     },
     "execution_count": 4,
     "metadata": {},
     "output_type": "execute_result"
    }
   ],
   "source": [
    "df.columns = df.columns.str.replace(' ','_')\n",
    "df.columns"
   ]
  },
  {
   "cell_type": "markdown",
   "metadata": {},
   "source": [
    "## Inital Data Exploration"
   ]
  },
  {
   "cell_type": "code",
   "execution_count": 5,
   "metadata": {
    "ExecuteTime": {
     "end_time": "2022-03-04T05:33:30.961160Z",
     "start_time": "2022-03-04T05:33:30.949356Z"
    }
   },
   "outputs": [
    {
     "name": "stdout",
     "output_type": "stream",
     "text": [
      "<class 'pandas.core.frame.DataFrame'>\n",
      "RangeIndex: 3333 entries, 0 to 3332\n",
      "Data columns (total 21 columns):\n",
      " #   Column                  Non-Null Count  Dtype  \n",
      "---  ------                  --------------  -----  \n",
      " 0   state                   3333 non-null   object \n",
      " 1   account_length          3333 non-null   int64  \n",
      " 2   area_code               3333 non-null   int64  \n",
      " 3   phone_number            3333 non-null   object \n",
      " 4   international_plan      3333 non-null   object \n",
      " 5   voice_mail_plan         3333 non-null   object \n",
      " 6   number_vmail_messages   3333 non-null   int64  \n",
      " 7   total_day_minutes       3333 non-null   float64\n",
      " 8   total_day_calls         3333 non-null   int64  \n",
      " 9   total_day_charge        3333 non-null   float64\n",
      " 10  total_eve_minutes       3333 non-null   float64\n",
      " 11  total_eve_calls         3333 non-null   int64  \n",
      " 12  total_eve_charge        3333 non-null   float64\n",
      " 13  total_night_minutes     3333 non-null   float64\n",
      " 14  total_night_calls       3333 non-null   int64  \n",
      " 15  total_night_charge      3333 non-null   float64\n",
      " 16  total_intl_minutes      3333 non-null   float64\n",
      " 17  total_intl_calls        3333 non-null   int64  \n",
      " 18  total_intl_charge       3333 non-null   float64\n",
      " 19  customer_service_calls  3333 non-null   int64  \n",
      " 20  churn                   3333 non-null   bool   \n",
      "dtypes: bool(1), float64(8), int64(8), object(4)\n",
      "memory usage: 524.2+ KB\n"
     ]
    }
   ],
   "source": [
    "df.info()"
   ]
  },
  {
   "cell_type": "code",
   "execution_count": 6,
   "metadata": {
    "ExecuteTime": {
     "end_time": "2022-03-04T05:33:30.966172Z",
     "start_time": "2022-03-04T05:33:30.962045Z"
    }
   },
   "outputs": [
    {
     "data": {
      "text/plain": [
       "state                     0\n",
       "account_length            0\n",
       "area_code                 0\n",
       "phone_number              0\n",
       "international_plan        0\n",
       "voice_mail_plan           0\n",
       "number_vmail_messages     0\n",
       "total_day_minutes         0\n",
       "total_day_calls           0\n",
       "total_day_charge          0\n",
       "total_eve_minutes         0\n",
       "total_eve_calls           0\n",
       "total_eve_charge          0\n",
       "total_night_minutes       0\n",
       "total_night_calls         0\n",
       "total_night_charge        0\n",
       "total_intl_minutes        0\n",
       "total_intl_calls          0\n",
       "total_intl_charge         0\n",
       "customer_service_calls    0\n",
       "churn                     0\n",
       "dtype: int64"
      ]
     },
     "execution_count": 6,
     "metadata": {},
     "output_type": "execute_result"
    }
   ],
   "source": [
    "df.isna().sum()"
   ]
  },
  {
   "cell_type": "code",
   "execution_count": 7,
   "metadata": {
    "ExecuteTime": {
     "end_time": "2022-03-04T05:33:30.971316Z",
     "start_time": "2022-03-04T05:33:30.967630Z"
    }
   },
   "outputs": [
    {
     "data": {
      "text/plain": [
       "0"
      ]
     },
     "execution_count": 7,
     "metadata": {},
     "output_type": "execute_result"
    }
   ],
   "source": [
    "df.phone_number.duplicated().sum()"
   ]
  },
  {
   "cell_type": "code",
   "execution_count": 8,
   "metadata": {
    "ExecuteTime": {
     "end_time": "2022-03-04T05:33:30.977254Z",
     "start_time": "2022-03-04T05:33:30.973504Z"
    }
   },
   "outputs": [
    {
     "data": {
      "text/plain": [
       "False    2850\n",
       "True      483\n",
       "Name: churn, dtype: int64"
      ]
     },
     "execution_count": 8,
     "metadata": {},
     "output_type": "execute_result"
    }
   ],
   "source": [
    "df.churn.value_counts()"
   ]
  },
  {
   "cell_type": "markdown",
   "metadata": {
    "ExecuteTime": {
     "end_time": "2022-02-24T18:25:37.713554Z",
     "start_time": "2022-02-24T18:25:37.708964Z"
    }
   },
   "source": [
    "## Initial Analysis"
   ]
  },
  {
   "cell_type": "markdown",
   "metadata": {},
   "source": [
    "### Base Churn Rate: 14.49%\n",
    "- There are 3333 records.\n",
    "- No missing values, and no duplicates.\n",
    "- The number of customers who churned was 483.\n",
    "- Therefore the base churn rate is (483 / 3333) = 14.49%"
   ]
  },
  {
   "cell_type": "markdown",
   "metadata": {},
   "source": [
    "### Target Feature Class Imbalance\n",
    "- Churn is <b>very</b> imbalanced as the amount of customers who stay with the company is nearly <b>6X higher</b> than the number of customers who leave.\n",
    "- Class imbalance will need to be addressed in my models through one of (or a combination of) these options:\n",
    "1. Class weight parameters\n",
    "2. Oversampling or undersampling\n",
    "3. Synthetic Minority Oversampling (SMOTE)"
   ]
  },
  {
   "cell_type": "markdown",
   "metadata": {},
   "source": [
    "# Cleaning and Preprocessing"
   ]
  },
  {
   "cell_type": "code",
   "execution_count": 9,
   "metadata": {
    "ExecuteTime": {
     "end_time": "2022-03-04T05:33:30.992351Z",
     "start_time": "2022-03-04T05:33:30.979284Z"
    }
   },
   "outputs": [
    {
     "data": {
      "text/html": [
       "<div>\n",
       "<style scoped>\n",
       "    .dataframe tbody tr th:only-of-type {\n",
       "        vertical-align: middle;\n",
       "    }\n",
       "\n",
       "    .dataframe tbody tr th {\n",
       "        vertical-align: top;\n",
       "    }\n",
       "\n",
       "    .dataframe thead th {\n",
       "        text-align: right;\n",
       "    }\n",
       "</style>\n",
       "<table border=\"1\" class=\"dataframe\">\n",
       "  <thead>\n",
       "    <tr style=\"text-align: right;\">\n",
       "      <th></th>\n",
       "      <th>state</th>\n",
       "      <th>account_length</th>\n",
       "      <th>area_code</th>\n",
       "      <th>phone_number</th>\n",
       "      <th>international_plan</th>\n",
       "      <th>voice_mail_plan</th>\n",
       "      <th>number_vmail_messages</th>\n",
       "      <th>total_day_minutes</th>\n",
       "      <th>total_day_calls</th>\n",
       "      <th>total_day_charge</th>\n",
       "      <th>...</th>\n",
       "      <th>total_eve_calls</th>\n",
       "      <th>total_eve_charge</th>\n",
       "      <th>total_night_minutes</th>\n",
       "      <th>total_night_calls</th>\n",
       "      <th>total_night_charge</th>\n",
       "      <th>total_intl_minutes</th>\n",
       "      <th>total_intl_calls</th>\n",
       "      <th>total_intl_charge</th>\n",
       "      <th>customer_service_calls</th>\n",
       "      <th>churn</th>\n",
       "    </tr>\n",
       "  </thead>\n",
       "  <tbody>\n",
       "    <tr>\n",
       "      <th>0</th>\n",
       "      <td>KS</td>\n",
       "      <td>128</td>\n",
       "      <td>415</td>\n",
       "      <td>382-4657</td>\n",
       "      <td>no</td>\n",
       "      <td>yes</td>\n",
       "      <td>25</td>\n",
       "      <td>265.1</td>\n",
       "      <td>110</td>\n",
       "      <td>45.07</td>\n",
       "      <td>...</td>\n",
       "      <td>99</td>\n",
       "      <td>16.78</td>\n",
       "      <td>244.7</td>\n",
       "      <td>91</td>\n",
       "      <td>11.01</td>\n",
       "      <td>10.0</td>\n",
       "      <td>3</td>\n",
       "      <td>2.7</td>\n",
       "      <td>1</td>\n",
       "      <td>False</td>\n",
       "    </tr>\n",
       "    <tr>\n",
       "      <th>1</th>\n",
       "      <td>OH</td>\n",
       "      <td>107</td>\n",
       "      <td>415</td>\n",
       "      <td>371-7191</td>\n",
       "      <td>no</td>\n",
       "      <td>yes</td>\n",
       "      <td>26</td>\n",
       "      <td>161.6</td>\n",
       "      <td>123</td>\n",
       "      <td>27.47</td>\n",
       "      <td>...</td>\n",
       "      <td>103</td>\n",
       "      <td>16.62</td>\n",
       "      <td>254.4</td>\n",
       "      <td>103</td>\n",
       "      <td>11.45</td>\n",
       "      <td>13.7</td>\n",
       "      <td>3</td>\n",
       "      <td>3.7</td>\n",
       "      <td>1</td>\n",
       "      <td>False</td>\n",
       "    </tr>\n",
       "  </tbody>\n",
       "</table>\n",
       "<p>2 rows × 21 columns</p>\n",
       "</div>"
      ],
      "text/plain": [
       "  state  account_length  area_code phone_number international_plan  \\\n",
       "0    KS             128        415     382-4657                 no   \n",
       "1    OH             107        415     371-7191                 no   \n",
       "\n",
       "  voice_mail_plan  number_vmail_messages  total_day_minutes  total_day_calls  \\\n",
       "0             yes                     25              265.1              110   \n",
       "1             yes                     26              161.6              123   \n",
       "\n",
       "   total_day_charge  ...  total_eve_calls  total_eve_charge  \\\n",
       "0             45.07  ...               99             16.78   \n",
       "1             27.47  ...              103             16.62   \n",
       "\n",
       "   total_night_minutes  total_night_calls  total_night_charge  \\\n",
       "0                244.7                 91               11.01   \n",
       "1                254.4                103               11.45   \n",
       "\n",
       "   total_intl_minutes  total_intl_calls  total_intl_charge  \\\n",
       "0                10.0                 3                2.7   \n",
       "1                13.7                 3                3.7   \n",
       "\n",
       "   customer_service_calls  churn  \n",
       "0                       1  False  \n",
       "1                       1  False  \n",
       "\n",
       "[2 rows x 21 columns]"
      ]
     },
     "execution_count": 9,
     "metadata": {},
     "output_type": "execute_result"
    }
   ],
   "source": [
    "test_df = df.copy()\n",
    "test_df.head(2)"
   ]
  },
  {
   "cell_type": "markdown",
   "metadata": {},
   "source": [
    "## Changing False to 0 and True to 1"
   ]
  },
  {
   "cell_type": "code",
   "execution_count": 10,
   "metadata": {
    "ExecuteTime": {
     "end_time": "2022-03-04T05:33:30.997084Z",
     "start_time": "2022-03-04T05:33:30.993273Z"
    }
   },
   "outputs": [
    {
     "data": {
      "text/plain": [
       "0    2850\n",
       "1     483\n",
       "Name: churn, dtype: int64"
      ]
     },
     "execution_count": 10,
     "metadata": {},
     "output_type": "execute_result"
    }
   ],
   "source": [
    "test_df[\"churn\"] = test_df[\"churn\"].astype(int)\n",
    "test_df.churn.value_counts()"
   ]
  },
  {
   "cell_type": "markdown",
   "metadata": {},
   "source": [
    "## Dropping Uneccesary Columns\n",
    "- These are all identifiers."
   ]
  },
  {
   "cell_type": "code",
   "execution_count": 11,
   "metadata": {
    "ExecuteTime": {
     "end_time": "2022-03-04T05:33:31.001019Z",
     "start_time": "2022-03-04T05:33:30.998052Z"
    }
   },
   "outputs": [],
   "source": [
    "test_df = test_df.drop(columns=['state','phone_number', 'area_code'], axis=1)"
   ]
  },
  {
   "cell_type": "markdown",
   "metadata": {},
   "source": [
    "## Adding Column: Total Charge\n",
    "- This column captures the total charge that the customer will see on their bill from all charges contained within the dataset."
   ]
  },
  {
   "cell_type": "code",
   "execution_count": 12,
   "metadata": {
    "ExecuteTime": {
     "end_time": "2022-03-04T05:33:31.044185Z",
     "start_time": "2022-03-04T05:33:31.002007Z"
    }
   },
   "outputs": [],
   "source": [
    "total_charge = test_df.apply(lambda x: x['total_day_charge'] + x['total_eve_charge'] +x['total_night_charge']\n",
    "                             +x['total_intl_charge'], axis=1)\n",
    "test_df['total_charge']= total_charge"
   ]
  },
  {
   "cell_type": "markdown",
   "metadata": {
    "ExecuteTime": {
     "end_time": "2022-02-16T17:59:05.018900Z",
     "start_time": "2022-02-16T17:59:04.997975Z"
    }
   },
   "source": [
    "## Slicing out object type Features"
   ]
  },
  {
   "cell_type": "code",
   "execution_count": 13,
   "metadata": {
    "ExecuteTime": {
     "end_time": "2022-03-04T05:33:31.056103Z",
     "start_time": "2022-03-04T05:33:31.045256Z"
    }
   },
   "outputs": [
    {
     "data": {
      "text/html": [
       "<div>\n",
       "<style scoped>\n",
       "    .dataframe tbody tr th:only-of-type {\n",
       "        vertical-align: middle;\n",
       "    }\n",
       "\n",
       "    .dataframe tbody tr th {\n",
       "        vertical-align: top;\n",
       "    }\n",
       "\n",
       "    .dataframe thead th {\n",
       "        text-align: right;\n",
       "    }\n",
       "</style>\n",
       "<table border=\"1\" class=\"dataframe\">\n",
       "  <thead>\n",
       "    <tr style=\"text-align: right;\">\n",
       "      <th></th>\n",
       "      <th>account_length</th>\n",
       "      <th>number_vmail_messages</th>\n",
       "      <th>total_day_minutes</th>\n",
       "      <th>total_day_calls</th>\n",
       "      <th>total_day_charge</th>\n",
       "      <th>total_eve_minutes</th>\n",
       "      <th>total_eve_calls</th>\n",
       "      <th>total_eve_charge</th>\n",
       "      <th>total_night_minutes</th>\n",
       "      <th>total_night_calls</th>\n",
       "      <th>total_night_charge</th>\n",
       "      <th>total_intl_minutes</th>\n",
       "      <th>total_intl_calls</th>\n",
       "      <th>total_intl_charge</th>\n",
       "      <th>customer_service_calls</th>\n",
       "      <th>churn</th>\n",
       "      <th>total_charge</th>\n",
       "    </tr>\n",
       "  </thead>\n",
       "  <tbody>\n",
       "    <tr>\n",
       "      <th>0</th>\n",
       "      <td>128</td>\n",
       "      <td>25</td>\n",
       "      <td>265.1</td>\n",
       "      <td>110</td>\n",
       "      <td>45.07</td>\n",
       "      <td>197.4</td>\n",
       "      <td>99</td>\n",
       "      <td>16.78</td>\n",
       "      <td>244.7</td>\n",
       "      <td>91</td>\n",
       "      <td>11.01</td>\n",
       "      <td>10.0</td>\n",
       "      <td>3</td>\n",
       "      <td>2.70</td>\n",
       "      <td>1</td>\n",
       "      <td>0</td>\n",
       "      <td>75.56</td>\n",
       "    </tr>\n",
       "    <tr>\n",
       "      <th>1</th>\n",
       "      <td>107</td>\n",
       "      <td>26</td>\n",
       "      <td>161.6</td>\n",
       "      <td>123</td>\n",
       "      <td>27.47</td>\n",
       "      <td>195.5</td>\n",
       "      <td>103</td>\n",
       "      <td>16.62</td>\n",
       "      <td>254.4</td>\n",
       "      <td>103</td>\n",
       "      <td>11.45</td>\n",
       "      <td>13.7</td>\n",
       "      <td>3</td>\n",
       "      <td>3.70</td>\n",
       "      <td>1</td>\n",
       "      <td>0</td>\n",
       "      <td>59.24</td>\n",
       "    </tr>\n",
       "    <tr>\n",
       "      <th>2</th>\n",
       "      <td>137</td>\n",
       "      <td>0</td>\n",
       "      <td>243.4</td>\n",
       "      <td>114</td>\n",
       "      <td>41.38</td>\n",
       "      <td>121.2</td>\n",
       "      <td>110</td>\n",
       "      <td>10.30</td>\n",
       "      <td>162.6</td>\n",
       "      <td>104</td>\n",
       "      <td>7.32</td>\n",
       "      <td>12.2</td>\n",
       "      <td>5</td>\n",
       "      <td>3.29</td>\n",
       "      <td>0</td>\n",
       "      <td>0</td>\n",
       "      <td>62.29</td>\n",
       "    </tr>\n",
       "    <tr>\n",
       "      <th>3</th>\n",
       "      <td>84</td>\n",
       "      <td>0</td>\n",
       "      <td>299.4</td>\n",
       "      <td>71</td>\n",
       "      <td>50.90</td>\n",
       "      <td>61.9</td>\n",
       "      <td>88</td>\n",
       "      <td>5.26</td>\n",
       "      <td>196.9</td>\n",
       "      <td>89</td>\n",
       "      <td>8.86</td>\n",
       "      <td>6.6</td>\n",
       "      <td>7</td>\n",
       "      <td>1.78</td>\n",
       "      <td>2</td>\n",
       "      <td>0</td>\n",
       "      <td>66.80</td>\n",
       "    </tr>\n",
       "    <tr>\n",
       "      <th>4</th>\n",
       "      <td>75</td>\n",
       "      <td>0</td>\n",
       "      <td>166.7</td>\n",
       "      <td>113</td>\n",
       "      <td>28.34</td>\n",
       "      <td>148.3</td>\n",
       "      <td>122</td>\n",
       "      <td>12.61</td>\n",
       "      <td>186.9</td>\n",
       "      <td>121</td>\n",
       "      <td>8.41</td>\n",
       "      <td>10.1</td>\n",
       "      <td>3</td>\n",
       "      <td>2.73</td>\n",
       "      <td>3</td>\n",
       "      <td>0</td>\n",
       "      <td>52.09</td>\n",
       "    </tr>\n",
       "  </tbody>\n",
       "</table>\n",
       "</div>"
      ],
      "text/plain": [
       "   account_length  number_vmail_messages  total_day_minutes  total_day_calls  \\\n",
       "0             128                     25              265.1              110   \n",
       "1             107                     26              161.6              123   \n",
       "2             137                      0              243.4              114   \n",
       "3              84                      0              299.4               71   \n",
       "4              75                      0              166.7              113   \n",
       "\n",
       "   total_day_charge  total_eve_minutes  total_eve_calls  total_eve_charge  \\\n",
       "0             45.07              197.4               99             16.78   \n",
       "1             27.47              195.5              103             16.62   \n",
       "2             41.38              121.2              110             10.30   \n",
       "3             50.90               61.9               88              5.26   \n",
       "4             28.34              148.3              122             12.61   \n",
       "\n",
       "   total_night_minutes  total_night_calls  total_night_charge  \\\n",
       "0                244.7                 91               11.01   \n",
       "1                254.4                103               11.45   \n",
       "2                162.6                104                7.32   \n",
       "3                196.9                 89                8.86   \n",
       "4                186.9                121                8.41   \n",
       "\n",
       "   total_intl_minutes  total_intl_calls  total_intl_charge  \\\n",
       "0                10.0                 3               2.70   \n",
       "1                13.7                 3               3.70   \n",
       "2                12.2                 5               3.29   \n",
       "3                 6.6                 7               1.78   \n",
       "4                10.1                 3               2.73   \n",
       "\n",
       "   customer_service_calls  churn  total_charge  \n",
       "0                       1      0         75.56  \n",
       "1                       1      0         59.24  \n",
       "2                       0      0         62.29  \n",
       "3                       2      0         66.80  \n",
       "4                       3      0         52.09  "
      ]
     },
     "execution_count": 13,
     "metadata": {},
     "output_type": "execute_result"
    }
   ],
   "source": [
    "cont_features = [col for col in test_df.columns if test_df[col].dtype in [np.float64, np.int64]]\n",
    "feature_df = test_df.loc[:, cont_features]\n",
    "feature_df.head()"
   ]
  },
  {
   "cell_type": "markdown",
   "metadata": {},
   "source": [
    "## One Hot Encoding"
   ]
  },
  {
   "cell_type": "code",
   "execution_count": 14,
   "metadata": {
    "ExecuteTime": {
     "end_time": "2022-03-04T05:33:31.070449Z",
     "start_time": "2022-03-04T05:33:31.057270Z"
    }
   },
   "outputs": [
    {
     "data": {
      "text/html": [
       "<div>\n",
       "<style scoped>\n",
       "    .dataframe tbody tr th:only-of-type {\n",
       "        vertical-align: middle;\n",
       "    }\n",
       "\n",
       "    .dataframe tbody tr th {\n",
       "        vertical-align: top;\n",
       "    }\n",
       "\n",
       "    .dataframe thead th {\n",
       "        text-align: right;\n",
       "    }\n",
       "</style>\n",
       "<table border=\"1\" class=\"dataframe\">\n",
       "  <thead>\n",
       "    <tr style=\"text-align: right;\">\n",
       "      <th></th>\n",
       "      <th>international_plan_no</th>\n",
       "      <th>international_plan_yes</th>\n",
       "      <th>voice_mail_plan_no</th>\n",
       "      <th>voice_mail_plan_yes</th>\n",
       "      <th>customer_service_calls_0</th>\n",
       "      <th>customer_service_calls_1</th>\n",
       "      <th>customer_service_calls_2</th>\n",
       "      <th>customer_service_calls_3</th>\n",
       "      <th>customer_service_calls_4</th>\n",
       "      <th>customer_service_calls_5</th>\n",
       "      <th>customer_service_calls_6</th>\n",
       "      <th>customer_service_calls_7</th>\n",
       "      <th>customer_service_calls_8</th>\n",
       "      <th>customer_service_calls_9</th>\n",
       "    </tr>\n",
       "  </thead>\n",
       "  <tbody>\n",
       "    <tr>\n",
       "      <th>0</th>\n",
       "      <td>1.0</td>\n",
       "      <td>0.0</td>\n",
       "      <td>0.0</td>\n",
       "      <td>1.0</td>\n",
       "      <td>0.0</td>\n",
       "      <td>1.0</td>\n",
       "      <td>0.0</td>\n",
       "      <td>0.0</td>\n",
       "      <td>0.0</td>\n",
       "      <td>0.0</td>\n",
       "      <td>0.0</td>\n",
       "      <td>0.0</td>\n",
       "      <td>0.0</td>\n",
       "      <td>0.0</td>\n",
       "    </tr>\n",
       "    <tr>\n",
       "      <th>1</th>\n",
       "      <td>1.0</td>\n",
       "      <td>0.0</td>\n",
       "      <td>0.0</td>\n",
       "      <td>1.0</td>\n",
       "      <td>0.0</td>\n",
       "      <td>1.0</td>\n",
       "      <td>0.0</td>\n",
       "      <td>0.0</td>\n",
       "      <td>0.0</td>\n",
       "      <td>0.0</td>\n",
       "      <td>0.0</td>\n",
       "      <td>0.0</td>\n",
       "      <td>0.0</td>\n",
       "      <td>0.0</td>\n",
       "    </tr>\n",
       "  </tbody>\n",
       "</table>\n",
       "</div>"
      ],
      "text/plain": [
       "   international_plan_no  international_plan_yes  voice_mail_plan_no  \\\n",
       "0                    1.0                     0.0                 0.0   \n",
       "1                    1.0                     0.0                 0.0   \n",
       "\n",
       "   voice_mail_plan_yes  customer_service_calls_0  customer_service_calls_1  \\\n",
       "0                  1.0                       0.0                       1.0   \n",
       "1                  1.0                       0.0                       1.0   \n",
       "\n",
       "   customer_service_calls_2  customer_service_calls_3  \\\n",
       "0                       0.0                       0.0   \n",
       "1                       0.0                       0.0   \n",
       "\n",
       "   customer_service_calls_4  customer_service_calls_5  \\\n",
       "0                       0.0                       0.0   \n",
       "1                       0.0                       0.0   \n",
       "\n",
       "   customer_service_calls_6  customer_service_calls_7  \\\n",
       "0                       0.0                       0.0   \n",
       "1                       0.0                       0.0   \n",
       "\n",
       "   customer_service_calls_8  customer_service_calls_9  \n",
       "0                       0.0                       0.0  \n",
       "1                       0.0                       0.0  "
      ]
     },
     "execution_count": 14,
     "metadata": {},
     "output_type": "execute_result"
    }
   ],
   "source": [
    "need_to_encode = test_df[['international_plan', 'voice_mail_plan', 'customer_service_calls']]\n",
    "ohe = OneHotEncoder()\n",
    "ohe.fit(need_to_encode)\n",
    "\n",
    "ohe_1 = ohe.transform(need_to_encode).toarray()\n",
    "\n",
    "ohe_df = pd.DataFrame(ohe_1, columns=ohe.get_feature_names(need_to_encode.columns))\n",
    "ohe_df.head(2)"
   ]
  },
  {
   "cell_type": "code",
   "execution_count": 15,
   "metadata": {
    "ExecuteTime": {
     "end_time": "2022-03-04T05:33:31.085531Z",
     "start_time": "2022-03-04T05:33:31.071416Z"
    }
   },
   "outputs": [
    {
     "data": {
      "text/html": [
       "<div>\n",
       "<style scoped>\n",
       "    .dataframe tbody tr th:only-of-type {\n",
       "        vertical-align: middle;\n",
       "    }\n",
       "\n",
       "    .dataframe tbody tr th {\n",
       "        vertical-align: top;\n",
       "    }\n",
       "\n",
       "    .dataframe thead th {\n",
       "        text-align: right;\n",
       "    }\n",
       "</style>\n",
       "<table border=\"1\" class=\"dataframe\">\n",
       "  <thead>\n",
       "    <tr style=\"text-align: right;\">\n",
       "      <th></th>\n",
       "      <th>account_length</th>\n",
       "      <th>number_vmail_messages</th>\n",
       "      <th>total_day_minutes</th>\n",
       "      <th>total_day_calls</th>\n",
       "      <th>total_day_charge</th>\n",
       "      <th>total_eve_minutes</th>\n",
       "      <th>total_eve_calls</th>\n",
       "      <th>total_eve_charge</th>\n",
       "      <th>total_night_minutes</th>\n",
       "      <th>total_night_calls</th>\n",
       "      <th>...</th>\n",
       "      <th>customer_service_calls_0</th>\n",
       "      <th>customer_service_calls_1</th>\n",
       "      <th>customer_service_calls_2</th>\n",
       "      <th>customer_service_calls_3</th>\n",
       "      <th>customer_service_calls_4</th>\n",
       "      <th>customer_service_calls_5</th>\n",
       "      <th>customer_service_calls_6</th>\n",
       "      <th>customer_service_calls_7</th>\n",
       "      <th>customer_service_calls_8</th>\n",
       "      <th>customer_service_calls_9</th>\n",
       "    </tr>\n",
       "  </thead>\n",
       "  <tbody>\n",
       "    <tr>\n",
       "      <th>0</th>\n",
       "      <td>128</td>\n",
       "      <td>25</td>\n",
       "      <td>265.1</td>\n",
       "      <td>110</td>\n",
       "      <td>45.07</td>\n",
       "      <td>197.4</td>\n",
       "      <td>99</td>\n",
       "      <td>16.78</td>\n",
       "      <td>244.7</td>\n",
       "      <td>91</td>\n",
       "      <td>...</td>\n",
       "      <td>0.0</td>\n",
       "      <td>1.0</td>\n",
       "      <td>0.0</td>\n",
       "      <td>0.0</td>\n",
       "      <td>0.0</td>\n",
       "      <td>0.0</td>\n",
       "      <td>0.0</td>\n",
       "      <td>0.0</td>\n",
       "      <td>0.0</td>\n",
       "      <td>0.0</td>\n",
       "    </tr>\n",
       "    <tr>\n",
       "      <th>1</th>\n",
       "      <td>107</td>\n",
       "      <td>26</td>\n",
       "      <td>161.6</td>\n",
       "      <td>123</td>\n",
       "      <td>27.47</td>\n",
       "      <td>195.5</td>\n",
       "      <td>103</td>\n",
       "      <td>16.62</td>\n",
       "      <td>254.4</td>\n",
       "      <td>103</td>\n",
       "      <td>...</td>\n",
       "      <td>0.0</td>\n",
       "      <td>1.0</td>\n",
       "      <td>0.0</td>\n",
       "      <td>0.0</td>\n",
       "      <td>0.0</td>\n",
       "      <td>0.0</td>\n",
       "      <td>0.0</td>\n",
       "      <td>0.0</td>\n",
       "      <td>0.0</td>\n",
       "      <td>0.0</td>\n",
       "    </tr>\n",
       "  </tbody>\n",
       "</table>\n",
       "<p>2 rows × 31 columns</p>\n",
       "</div>"
      ],
      "text/plain": [
       "   account_length  number_vmail_messages  total_day_minutes  total_day_calls  \\\n",
       "0             128                     25              265.1              110   \n",
       "1             107                     26              161.6              123   \n",
       "\n",
       "   total_day_charge  total_eve_minutes  total_eve_calls  total_eve_charge  \\\n",
       "0             45.07              197.4               99             16.78   \n",
       "1             27.47              195.5              103             16.62   \n",
       "\n",
       "   total_night_minutes  total_night_calls  ...  customer_service_calls_0  \\\n",
       "0                244.7                 91  ...                       0.0   \n",
       "1                254.4                103  ...                       0.0   \n",
       "\n",
       "   customer_service_calls_1  customer_service_calls_2  \\\n",
       "0                       1.0                       0.0   \n",
       "1                       1.0                       0.0   \n",
       "\n",
       "   customer_service_calls_3  customer_service_calls_4  \\\n",
       "0                       0.0                       0.0   \n",
       "1                       0.0                       0.0   \n",
       "\n",
       "   customer_service_calls_5  customer_service_calls_6  \\\n",
       "0                       0.0                       0.0   \n",
       "1                       0.0                       0.0   \n",
       "\n",
       "   customer_service_calls_7  customer_service_calls_8  \\\n",
       "0                       0.0                       0.0   \n",
       "1                       0.0                       0.0   \n",
       "\n",
       "   customer_service_calls_9  \n",
       "0                       0.0  \n",
       "1                       0.0  \n",
       "\n",
       "[2 rows x 31 columns]"
      ]
     },
     "execution_count": 15,
     "metadata": {},
     "output_type": "execute_result"
    }
   ],
   "source": [
    "# Combining everything together\n",
    "cleaned_df = pd.concat([pd.DataFrame(feature_df), ohe_df], axis=1)\n",
    "cleaned_df.head(2)"
   ]
  },
  {
   "cell_type": "markdown",
   "metadata": {},
   "source": [
    "## Dropping one value for categoricals"
   ]
  },
  {
   "cell_type": "code",
   "execution_count": 16,
   "metadata": {
    "ExecuteTime": {
     "end_time": "2022-03-04T05:33:31.090369Z",
     "start_time": "2022-03-04T05:33:31.086584Z"
    }
   },
   "outputs": [],
   "source": [
    "#Dropping a few of the redundant values.\n",
    "cleaned_df_2 = cleaned_df.copy()\n",
    "cleaned_df_2 = cleaned_df_2.drop(['international_plan_no', 'voice_mail_plan_no'], axis=1)"
   ]
  },
  {
   "cell_type": "markdown",
   "metadata": {},
   "source": [
    "## Creating Variable: Customer Service Calls High\n",
    "- Customer Service Calls High = 4 or more Customer Service Calls.\n",
    "- This is to determine if a high number of Customer Service Calls affects Churn.\n",
    "- I'm introducing only the High Customer Service Calls variable as any account that isn't in the \"High\" range is in the \"Low\" range."
   ]
  },
  {
   "cell_type": "code",
   "execution_count": 17,
   "metadata": {
    "ExecuteTime": {
     "end_time": "2022-03-04T05:33:31.145170Z",
     "start_time": "2022-03-04T05:33:31.091502Z"
    }
   },
   "outputs": [],
   "source": [
    "cs_calls_high= cleaned_df_2.apply(lambda x: x['customer_service_calls_4'] + x['customer_service_calls_5']\n",
    "                              + x['customer_service_calls_6'] + x['customer_service_calls_7']\n",
    "                            + x['customer_service_calls_8']+ x['customer_service_calls_9'], axis=1)\n",
    "\n",
    "cleaned_df_2['cs_calls_high'] = cs_calls_high"
   ]
  },
  {
   "cell_type": "code",
   "execution_count": 18,
   "metadata": {
    "ExecuteTime": {
     "end_time": "2022-03-04T05:33:31.156265Z",
     "start_time": "2022-03-04T05:33:31.146214Z"
    }
   },
   "outputs": [
    {
     "data": {
      "text/html": [
       "<div>\n",
       "<style scoped>\n",
       "    .dataframe tbody tr th:only-of-type {\n",
       "        vertical-align: middle;\n",
       "    }\n",
       "\n",
       "    .dataframe tbody tr th {\n",
       "        vertical-align: top;\n",
       "    }\n",
       "\n",
       "    .dataframe thead th {\n",
       "        text-align: right;\n",
       "    }\n",
       "</style>\n",
       "<table border=\"1\" class=\"dataframe\">\n",
       "  <thead>\n",
       "    <tr style=\"text-align: right;\">\n",
       "      <th></th>\n",
       "      <th>account_length</th>\n",
       "      <th>number_vmail_messages</th>\n",
       "      <th>total_day_minutes</th>\n",
       "      <th>total_day_calls</th>\n",
       "      <th>total_day_charge</th>\n",
       "      <th>total_eve_minutes</th>\n",
       "      <th>total_eve_calls</th>\n",
       "      <th>total_eve_charge</th>\n",
       "      <th>total_night_minutes</th>\n",
       "      <th>total_night_calls</th>\n",
       "      <th>total_night_charge</th>\n",
       "      <th>total_intl_minutes</th>\n",
       "      <th>total_intl_calls</th>\n",
       "      <th>total_intl_charge</th>\n",
       "      <th>customer_service_calls</th>\n",
       "      <th>churn</th>\n",
       "      <th>total_charge</th>\n",
       "      <th>international_plan_yes</th>\n",
       "      <th>voice_mail_plan_yes</th>\n",
       "      <th>cs_calls_high</th>\n",
       "    </tr>\n",
       "  </thead>\n",
       "  <tbody>\n",
       "    <tr>\n",
       "      <th>0</th>\n",
       "      <td>128</td>\n",
       "      <td>25</td>\n",
       "      <td>265.1</td>\n",
       "      <td>110</td>\n",
       "      <td>45.07</td>\n",
       "      <td>197.4</td>\n",
       "      <td>99</td>\n",
       "      <td>16.78</td>\n",
       "      <td>244.7</td>\n",
       "      <td>91</td>\n",
       "      <td>11.01</td>\n",
       "      <td>10.0</td>\n",
       "      <td>3</td>\n",
       "      <td>2.7</td>\n",
       "      <td>1</td>\n",
       "      <td>0</td>\n",
       "      <td>75.56</td>\n",
       "      <td>0.0</td>\n",
       "      <td>1.0</td>\n",
       "      <td>0.0</td>\n",
       "    </tr>\n",
       "    <tr>\n",
       "      <th>1</th>\n",
       "      <td>107</td>\n",
       "      <td>26</td>\n",
       "      <td>161.6</td>\n",
       "      <td>123</td>\n",
       "      <td>27.47</td>\n",
       "      <td>195.5</td>\n",
       "      <td>103</td>\n",
       "      <td>16.62</td>\n",
       "      <td>254.4</td>\n",
       "      <td>103</td>\n",
       "      <td>11.45</td>\n",
       "      <td>13.7</td>\n",
       "      <td>3</td>\n",
       "      <td>3.7</td>\n",
       "      <td>1</td>\n",
       "      <td>0</td>\n",
       "      <td>59.24</td>\n",
       "      <td>0.0</td>\n",
       "      <td>1.0</td>\n",
       "      <td>0.0</td>\n",
       "    </tr>\n",
       "  </tbody>\n",
       "</table>\n",
       "</div>"
      ],
      "text/plain": [
       "   account_length  number_vmail_messages  total_day_minutes  total_day_calls  \\\n",
       "0             128                     25              265.1              110   \n",
       "1             107                     26              161.6              123   \n",
       "\n",
       "   total_day_charge  total_eve_minutes  total_eve_calls  total_eve_charge  \\\n",
       "0             45.07              197.4               99             16.78   \n",
       "1             27.47              195.5              103             16.62   \n",
       "\n",
       "   total_night_minutes  total_night_calls  total_night_charge  \\\n",
       "0                244.7                 91               11.01   \n",
       "1                254.4                103               11.45   \n",
       "\n",
       "   total_intl_minutes  total_intl_calls  total_intl_charge  \\\n",
       "0                10.0                 3                2.7   \n",
       "1                13.7                 3                3.7   \n",
       "\n",
       "   customer_service_calls  churn  total_charge  international_plan_yes  \\\n",
       "0                       1      0         75.56                     0.0   \n",
       "1                       1      0         59.24                     0.0   \n",
       "\n",
       "   voice_mail_plan_yes  cs_calls_high  \n",
       "0                  1.0            0.0  \n",
       "1                  1.0            0.0  "
      ]
     },
     "execution_count": 18,
     "metadata": {},
     "output_type": "execute_result"
    }
   ],
   "source": [
    "cleaned_df_2 = cleaned_df_2.drop(['customer_service_calls_0', 'customer_service_calls_1','customer_service_calls_2','customer_service_calls_3',\n",
    "                     'customer_service_calls_4','customer_service_calls_5','customer_service_calls_6',\n",
    "                     'customer_service_calls_7','customer_service_calls_8','customer_service_calls_9']\n",
    "                    , axis=1)\n",
    "cleaned_df_2.head(2)"
   ]
  },
  {
   "cell_type": "code",
   "execution_count": 19,
   "metadata": {
    "ExecuteTime": {
     "end_time": "2022-03-04T05:33:31.195321Z",
     "start_time": "2022-03-04T05:33:31.157281Z"
    }
   },
   "outputs": [],
   "source": [
    "total_charge = cleaned_df_2.apply(lambda x: x['total_day_charge'] + x['total_eve_charge'] +x['total_night_charge']\n",
    "                             +x['total_intl_charge'], axis=1)\n",
    "cleaned_df_2['total_charge']= total_charge"
   ]
  },
  {
   "cell_type": "markdown",
   "metadata": {},
   "source": [
    "## Creating Model DataFrame"
   ]
  },
  {
   "cell_type": "code",
   "execution_count": 21,
   "metadata": {
    "ExecuteTime": {
     "end_time": "2022-03-04T05:33:31.208283Z",
     "start_time": "2022-03-04T05:33:31.202895Z"
    }
   },
   "outputs": [
    {
     "name": "stdout",
     "output_type": "stream",
     "text": [
      "<class 'pandas.core.frame.DataFrame'>\n",
      "RangeIndex: 3333 entries, 0 to 3332\n",
      "Data columns (total 20 columns):\n",
      " #   Column                  Non-Null Count  Dtype  \n",
      "---  ------                  --------------  -----  \n",
      " 0   account_length          3333 non-null   int64  \n",
      " 1   number_vmail_messages   3333 non-null   int64  \n",
      " 2   total_day_minutes       3333 non-null   float64\n",
      " 3   total_day_calls         3333 non-null   int64  \n",
      " 4   total_day_charge        3333 non-null   float64\n",
      " 5   total_eve_minutes       3333 non-null   float64\n",
      " 6   total_eve_calls         3333 non-null   int64  \n",
      " 7   total_eve_charge        3333 non-null   float64\n",
      " 8   total_night_minutes     3333 non-null   float64\n",
      " 9   total_night_calls       3333 non-null   int64  \n",
      " 10  total_night_charge      3333 non-null   float64\n",
      " 11  total_intl_minutes      3333 non-null   float64\n",
      " 12  total_intl_calls        3333 non-null   int64  \n",
      " 13  total_intl_charge       3333 non-null   float64\n",
      " 14  customer_service_calls  3333 non-null   int64  \n",
      " 15  churn                   3333 non-null   int64  \n",
      " 16  total_charge            3333 non-null   float64\n",
      " 17  international_plan_yes  3333 non-null   float64\n",
      " 18  voice_mail_plan_yes     3333 non-null   float64\n",
      " 19  cs_calls_high           3333 non-null   float64\n",
      "dtypes: float64(12), int64(8)\n",
      "memory usage: 520.9 KB\n"
     ]
    }
   ],
   "source": [
    "model_df = cleaned_df_2.copy()\n",
    "model_df.info()"
   ]
  },
  {
   "cell_type": "code",
   "execution_count": 22,
   "metadata": {
    "ExecuteTime": {
     "end_time": "2022-03-04T05:33:31.211703Z",
     "start_time": "2022-03-04T05:33:31.209268Z"
    }
   },
   "outputs": [],
   "source": [
    "model_df=model_df.drop(['customer_service_calls','total_day_charge', 'total_eve_charge', 'total_night_charge', 'total_intl_charge']\n",
    "                          , axis=1)\n"
   ]
  },
  {
   "cell_type": "markdown",
   "metadata": {},
   "source": [
    "These are now redundant as that information is now being captured in different fields and I don't want extra noise in my model."
   ]
  },
  {
   "cell_type": "code",
   "execution_count": 23,
   "metadata": {
    "ExecuteTime": {
     "end_time": "2022-03-04T05:33:31.222880Z",
     "start_time": "2022-03-04T05:33:31.215827Z"
    }
   },
   "outputs": [
    {
     "data": {
      "text/html": [
       "<div>\n",
       "<style scoped>\n",
       "    .dataframe tbody tr th:only-of-type {\n",
       "        vertical-align: middle;\n",
       "    }\n",
       "\n",
       "    .dataframe tbody tr th {\n",
       "        vertical-align: top;\n",
       "    }\n",
       "\n",
       "    .dataframe thead th {\n",
       "        text-align: right;\n",
       "    }\n",
       "</style>\n",
       "<table border=\"1\" class=\"dataframe\">\n",
       "  <thead>\n",
       "    <tr style=\"text-align: right;\">\n",
       "      <th></th>\n",
       "      <th>account_length</th>\n",
       "      <th>number_vmail_messages</th>\n",
       "      <th>total_day_minutes</th>\n",
       "      <th>total_day_calls</th>\n",
       "      <th>total_eve_minutes</th>\n",
       "      <th>total_eve_calls</th>\n",
       "      <th>total_night_minutes</th>\n",
       "      <th>total_night_calls</th>\n",
       "      <th>total_intl_minutes</th>\n",
       "      <th>total_intl_calls</th>\n",
       "      <th>churn</th>\n",
       "      <th>total_charge</th>\n",
       "      <th>international_plan_yes</th>\n",
       "      <th>voice_mail_plan_yes</th>\n",
       "      <th>cs_calls_high</th>\n",
       "    </tr>\n",
       "  </thead>\n",
       "  <tbody>\n",
       "    <tr>\n",
       "      <th>0</th>\n",
       "      <td>128</td>\n",
       "      <td>25</td>\n",
       "      <td>265.1</td>\n",
       "      <td>110</td>\n",
       "      <td>197.4</td>\n",
       "      <td>99</td>\n",
       "      <td>244.7</td>\n",
       "      <td>91</td>\n",
       "      <td>10.0</td>\n",
       "      <td>3</td>\n",
       "      <td>0</td>\n",
       "      <td>75.56</td>\n",
       "      <td>0.0</td>\n",
       "      <td>1.0</td>\n",
       "      <td>0.0</td>\n",
       "    </tr>\n",
       "    <tr>\n",
       "      <th>1</th>\n",
       "      <td>107</td>\n",
       "      <td>26</td>\n",
       "      <td>161.6</td>\n",
       "      <td>123</td>\n",
       "      <td>195.5</td>\n",
       "      <td>103</td>\n",
       "      <td>254.4</td>\n",
       "      <td>103</td>\n",
       "      <td>13.7</td>\n",
       "      <td>3</td>\n",
       "      <td>0</td>\n",
       "      <td>59.24</td>\n",
       "      <td>0.0</td>\n",
       "      <td>1.0</td>\n",
       "      <td>0.0</td>\n",
       "    </tr>\n",
       "  </tbody>\n",
       "</table>\n",
       "</div>"
      ],
      "text/plain": [
       "   account_length  number_vmail_messages  total_day_minutes  total_day_calls  \\\n",
       "0             128                     25              265.1              110   \n",
       "1             107                     26              161.6              123   \n",
       "\n",
       "   total_eve_minutes  total_eve_calls  total_night_minutes  total_night_calls  \\\n",
       "0              197.4               99                244.7                 91   \n",
       "1              195.5              103                254.4                103   \n",
       "\n",
       "   total_intl_minutes  total_intl_calls  churn  total_charge  \\\n",
       "0                10.0                 3      0         75.56   \n",
       "1                13.7                 3      0         59.24   \n",
       "\n",
       "   international_plan_yes  voice_mail_plan_yes  cs_calls_high  \n",
       "0                     0.0                  1.0            0.0  \n",
       "1                     0.0                  1.0            0.0  "
      ]
     },
     "execution_count": 23,
     "metadata": {},
     "output_type": "execute_result"
    }
   ],
   "source": [
    "model_df.head(2)"
   ]
  },
  {
   "cell_type": "markdown",
   "metadata": {
    "ExecuteTime": {
     "end_time": "2022-02-24T19:47:24.241054Z",
     "start_time": "2022-02-24T19:47:24.237331Z"
    }
   },
   "source": [
    "## Dealing With Churn Class Imbalance \n",
    "- Always use class weight parameter in Decision Tree Classifier\n",
    "- Always stratify Train Test Split.\n",
    "- Add SMOTE to Training Sets."
   ]
  },
  {
   "cell_type": "code",
   "execution_count": 24,
   "metadata": {
    "ExecuteTime": {
     "end_time": "2022-03-04T05:33:31.241538Z",
     "start_time": "2022-03-04T05:33:31.225722Z"
    }
   },
   "outputs": [],
   "source": [
    "balanced_df = model_df.copy()\n",
    "\n",
    "X = balanced_df.drop(['churn'], axis=1)\n",
    "y = balanced_df['churn']\n",
    "\n",
    "X_train, X_test, y_train, y_test = train_test_split(X, y, test_size=.25, stratify=y, random_state=23)\n",
    "\n",
    "smote = SMOTE(random_state=23)\n",
    "X_train_resampled, y_train_resampled = smote.fit_sample(X_train, y_train) "
   ]
  },
  {
   "cell_type": "markdown",
   "metadata": {},
   "source": [
    "## Metrics Function\n",
    "- A Function to quickly calulate and display the metrics that I care about.\n",
    "1. Recall\n",
    "2. F1 Score\n",
    "3. ROC AUC Score"
   ]
  },
  {
   "cell_type": "code",
   "execution_count": 25,
   "metadata": {
    "ExecuteTime": {
     "end_time": "2022-03-04T05:33:31.244888Z",
     "start_time": "2022-03-04T05:33:31.242454Z"
    }
   },
   "outputs": [],
   "source": [
    "def get_metrics(clf, y_pred):\n",
    "    \n",
    "    clf_rcl = recall_score(y_test, y_pred) * 100\n",
    "    print('Recall is :{0}'.format(clf_rcl))\n",
    "    clf_f1 = f1_score(y_test, y_pred) * 100\n",
    "    print('F1 Score is :{0}'.format(clf_f1))\n",
    "    false_positive_rate, true_positive_rate, thresholds = roc_curve(y_test, y_pred)\n",
    "    clf_roc_auc = auc(false_positive_rate, true_positive_rate)\n",
    "    print('ROC AUC is :{0}'.format(round(clf_roc_auc, 2)))\n",
    "    "
   ]
  },
  {
   "cell_type": "markdown",
   "metadata": {},
   "source": [
    "# Baseline Decision Tree "
   ]
  },
  {
   "cell_type": "code",
   "execution_count": 26,
   "metadata": {
    "ExecuteTime": {
     "end_time": "2022-03-04T05:33:31.269728Z",
     "start_time": "2022-03-04T05:33:31.245872Z"
    }
   },
   "outputs": [],
   "source": [
    "dt1 = DecisionTreeClassifier(random_state=23, class_weight=\"balanced\")\n",
    "dt1.fit(X_train_resampled, y_train_resampled)\n",
    "dt1_y_pred = dt1.predict(X_test)"
   ]
  },
  {
   "cell_type": "code",
   "execution_count": 27,
   "metadata": {
    "ExecuteTime": {
     "end_time": "2022-03-04T05:33:31.275788Z",
     "start_time": "2022-03-04T05:33:31.270807Z"
    }
   },
   "outputs": [
    {
     "name": "stdout",
     "output_type": "stream",
     "text": [
      "Recall is :84.29752066115702\n",
      "F1 Score is :80.63241106719367\n",
      "ROC AUC is :0.9\n"
     ]
    }
   ],
   "source": [
    "get_metrics(dt1, dt1_y_pred)"
   ]
  },
  {
   "cell_type": "code",
   "execution_count": 28,
   "metadata": {
    "ExecuteTime": {
     "end_time": "2022-03-04T05:33:31.329880Z",
     "start_time": "2022-03-04T05:33:31.277271Z"
    }
   },
   "outputs": [
    {
     "data": {
      "text/plain": [
       "0.9513336947237007"
      ]
     },
     "execution_count": 28,
     "metadata": {},
     "output_type": "execute_result"
    }
   ],
   "source": [
    "dt1_cv_score = np.mean(cross_val_score(dt1, X_train_resampled, y_train_resampled, cv=3))\n",
    "dt1_cv_score"
   ]
  },
  {
   "cell_type": "code",
   "execution_count": 29,
   "metadata": {
    "ExecuteTime": {
     "end_time": "2022-03-04T05:33:31.464637Z",
     "start_time": "2022-03-04T05:33:31.331363Z"
    }
   },
   "outputs": [
    {
     "data": {
      "image/png": "[encoded data removed]",
      "text/plain": [
       "<Figure size 360x360 with 2 Axes>"
      ]
     },
     "metadata": {},
     "output_type": "display_data"
    }
   ],
   "source": [
    "dt1_matrix = confusion_matrix(y_test, dt1_y_pred)\n",
    "\n",
    "fig, ax = plt.subplots(figsize=(5,5))\n",
    "\n",
    "ax = sns.heatmap(dt1_matrix, annot=True, cmap='Reds', fmt='d')\n",
    "\n",
    "ax.set_title('Baseline Decision Tree Confusion Matrix', fontsize = 30);\n",
    "ax.set_xlabel('\\nPredicted Values',fontsize = 20)\n",
    "ax.set_ylabel('Actual Values ', fontsize=20);\n",
    "\n",
    "## Ticket labels - List must be in alphabetical order\n",
    "ax.xaxis.set_ticklabels(['Stayed','Churned'])\n",
    "ax.yaxis.set_ticklabels(['Stayed','Churned'])\n",
    "\n",
    "## Display the visualization of the Confusion Matrix.\n",
    "plt.show()"
   ]
  },
  {
   "cell_type": "markdown",
   "metadata": {},
   "source": [
    "## Analysis:\n",
    "- All of my work in preprocessing has paid off. The first model is already performing well.\n",
    "- Recall is decent, F1 score is okay, and ROC AUC score is very good.\n",
    "- Still, I will use GridSearch to further optimize my Decision Tree, and then use Random Forests to see if I can further refine and improve my model."
   ]
  },
  {
   "cell_type": "markdown",
   "metadata": {},
   "source": [
    "## Refining Decision Tree through GridSearchCV"
   ]
  },
  {
   "cell_type": "code",
   "execution_count": 30,
   "metadata": {
    "ExecuteTime": {
     "end_time": "2022-03-04T05:33:31.467918Z",
     "start_time": "2022-03-04T05:33:31.465742Z"
    }
   },
   "outputs": [],
   "source": [
    "dt_param_grid = {\n",
    "    'criterion': ['gini', 'entropy'],\n",
    "    'max_depth': [None, 2, 3, 4, 5, 6],\n",
    "    'min_samples_split': [2, 5, 10],\n",
    "    'min_samples_leaf': [1, 2, 3, 4, 5, 6]\n",
    "}"
   ]
  },
  {
   "cell_type": "code",
   "execution_count": 31,
   "metadata": {
    "ExecuteTime": {
     "end_time": "2022-03-04T05:33:37.839222Z",
     "start_time": "2022-03-04T05:33:31.469049Z"
    }
   },
   "outputs": [
    {
     "data": {
      "text/plain": [
       "GridSearchCV(cv=3, estimator=DecisionTreeClassifier(random_state=23),\n",
       "             param_grid={'criterion': ['gini', 'entropy'],\n",
       "                         'max_depth': [None, 2, 3, 4, 5, 6],\n",
       "                         'min_samples_leaf': [1, 2, 3, 4, 5, 6],\n",
       "                         'min_samples_split': [2, 5, 10]},\n",
       "             scoring='recall')"
      ]
     },
     "execution_count": 31,
     "metadata": {},
     "output_type": "execute_result"
    }
   ],
   "source": [
    "# Instantiate GridSearchCV\n",
    "dt2 = DecisionTreeClassifier(random_state=23)\n",
    "\n",
    "dt_grid_search = GridSearchCV(dt2, dt_param_grid, cv=3, scoring = 'recall')\n",
    "\n",
    "# Fit to the data\n",
    "dt_grid_search.fit(X_train_resampled, y_train_resampled)"
   ]
  },
  {
   "cell_type": "code",
   "execution_count": 32,
   "metadata": {
    "ExecuteTime": {
     "end_time": "2022-03-04T05:33:37.842430Z",
     "start_time": "2022-03-04T05:33:37.840166Z"
    }
   },
   "outputs": [
    {
     "data": {
      "text/plain": [
       "{'criterion': 'entropy',\n",
       " 'max_depth': None,\n",
       " 'min_samples_leaf': 1,\n",
       " 'min_samples_split': 2}"
      ]
     },
     "execution_count": 32,
     "metadata": {},
     "output_type": "execute_result"
    }
   ],
   "source": [
    "dt_grid_search.best_params_"
   ]
  },
  {
   "cell_type": "markdown",
   "metadata": {
    "ExecuteTime": {
     "end_time": "2022-02-24T20:01:07.364500Z",
     "start_time": "2022-02-24T20:01:07.361523Z"
    }
   },
   "source": [
    "# Decision Tree 2 (Using Grid Search Parameters)"
   ]
  },
  {
   "cell_type": "code",
   "execution_count": 33,
   "metadata": {
    "ExecuteTime": {
     "end_time": "2022-03-04T05:33:37.867221Z",
     "start_time": "2022-03-04T05:33:37.843347Z"
    }
   },
   "outputs": [],
   "source": [
    "dt2 = DecisionTreeClassifier(criterion='entropy', max_depth=None, min_samples_split=2,\n",
    "                             min_samples_leaf=1, class_weight='balanced', random_state=23)\n",
    "dt2.fit(X_train_resampled, y_train_resampled)\n",
    "dt2_y_pred = dt2.predict(X_test)"
   ]
  },
  {
   "cell_type": "code",
   "execution_count": 34,
   "metadata": {
    "ExecuteTime": {
     "end_time": "2022-03-04T05:33:37.873045Z",
     "start_time": "2022-03-04T05:33:37.868216Z"
    }
   },
   "outputs": [
    {
     "name": "stdout",
     "output_type": "stream",
     "text": [
      "Recall is :85.12396694214877\n",
      "F1 Score is :82.07171314741036\n",
      "ROC AUC is :0.91\n"
     ]
    }
   ],
   "source": [
    "get_metrics(dt2, dt2_y_pred)"
   ]
  },
  {
   "cell_type": "code",
   "execution_count": 35,
   "metadata": {
    "ExecuteTime": {
     "end_time": "2022-03-04T05:33:37.924442Z",
     "start_time": "2022-03-04T05:33:37.873991Z"
    }
   },
   "outputs": [
    {
     "data": {
      "text/plain": [
       "0.9588203889874499"
      ]
     },
     "execution_count": 35,
     "metadata": {},
     "output_type": "execute_result"
    }
   ],
   "source": [
    "dt2_cv_score = np.mean(cross_val_score(dt2, X_train_resampled, y_train_resampled, cv=3))\n",
    "dt2_cv_score"
   ]
  },
  {
   "cell_type": "code",
   "execution_count": 36,
   "metadata": {
    "ExecuteTime": {
     "end_time": "2022-03-04T05:33:38.059825Z",
     "start_time": "2022-03-04T05:33:37.925522Z"
    }
   },
   "outputs": [
    {
     "data": {
      "image/png": "[encoded data removed]",
      "text/plain": [
       "<Figure size 360x360 with 2 Axes>"
      ]
     },
     "metadata": {},
     "output_type": "display_data"
    }
   ],
   "source": [
    "dt2_matrix = confusion_matrix(y_test, dt2_y_pred)\n",
    "\n",
    "fig, ax = plt.subplots(figsize=(5,5))\n",
    "\n",
    "ax = sns.heatmap(dt2_matrix, annot=True, cmap='Reds', fmt='d')\n",
    "\n",
    "ax.set_title('Decision Tree 2 Confusion Matrix', fontsize = 30);\n",
    "ax.set_xlabel('\\nPredicted Values',fontsize = 20)\n",
    "ax.set_ylabel('Actual Values ', fontsize=20);\n",
    "\n",
    "## Ticket labels - List must be in alphabetical order\n",
    "ax.xaxis.set_ticklabels(['Stayed','Churned'])\n",
    "ax.yaxis.set_ticklabels(['Stayed','Churned'])\n",
    "\n",
    "## Display the visualization of the Confusion Matrix.\n",
    "plt.show()"
   ]
  },
  {
   "cell_type": "markdown",
   "metadata": {},
   "source": [
    "## Analysis:\n",
    "- Decision Tree 2 performs slightly better than Decision Tree 1 on all metrics."
   ]
  },
  {
   "cell_type": "markdown",
   "metadata": {
    "ExecuteTime": {
     "end_time": "2022-02-24T20:05:04.651877Z",
     "start_time": "2022-02-24T20:05:04.644324Z"
    }
   },
   "source": [
    "# Random Forests 1\n",
    "- Moving on to a more Complex model to see if I get better performance."
   ]
  },
  {
   "cell_type": "code",
   "execution_count": 37,
   "metadata": {
    "ExecuteTime": {
     "end_time": "2022-03-04T05:33:38.475913Z",
     "start_time": "2022-03-04T05:33:38.061020Z"
    }
   },
   "outputs": [],
   "source": [
    "rf1_clf = RandomForestClassifier(random_state=23, class_weight=\"balanced\")\n",
    "rf1_clf.fit(X_train_resampled, y_train_resampled)\n",
    "rf1_y_pred = rf1_clf.predict(X_test)"
   ]
  },
  {
   "cell_type": "code",
   "execution_count": 38,
   "metadata": {
    "ExecuteTime": {
     "end_time": "2022-03-04T05:33:38.480677Z",
     "start_time": "2022-03-04T05:33:38.476736Z"
    }
   },
   "outputs": [
    {
     "name": "stdout",
     "output_type": "stream",
     "text": [
      "Recall is :82.64462809917356\n",
      "F1 Score is :88.10572687224669\n",
      "ROC AUC is :0.91\n"
     ]
    }
   ],
   "source": [
    "get_metrics(rf1_clf, rf1_y_pred)"
   ]
  },
  {
   "cell_type": "code",
   "execution_count": 39,
   "metadata": {
    "ExecuteTime": {
     "end_time": "2022-03-04T05:33:39.342302Z",
     "start_time": "2022-03-04T05:33:38.481679Z"
    }
   },
   "outputs": [
    {
     "data": {
      "text/plain": [
       "0.971224127735068"
      ]
     },
     "execution_count": 39,
     "metadata": {},
     "output_type": "execute_result"
    }
   ],
   "source": [
    "rf1_cv_score = np.mean(cross_val_score(rf1_clf, X_train_resampled, y_train_resampled, cv=3))\n",
    "rf1_cv_score"
   ]
  },
  {
   "cell_type": "code",
   "execution_count": 40,
   "metadata": {
    "ExecuteTime": {
     "end_time": "2022-03-04T05:33:39.442461Z",
     "start_time": "2022-03-04T05:33:39.343146Z"
    }
   },
   "outputs": [
    {
     "data": {
      "image/png": "[encoded data removed]",
      "text/plain": [
       "<Figure size 360x360 with 2 Axes>"
      ]
     },
     "metadata": {},
     "output_type": "display_data"
    }
   ],
   "source": [
    "rf1_matrix = confusion_matrix(y_test, rf1_y_pred)\n",
    "\n",
    "fig, ax = plt.subplots(figsize=(5,5))\n",
    "\n",
    "ax = sns.heatmap(rf1_matrix, annot=True, cmap='Reds', fmt='d')\n",
    "\n",
    "ax.set_title('Random Forests 1 Confusion Matrix', fontsize = 30);\n",
    "ax.set_xlabel('\\nPredicted Values',fontsize = 20)\n",
    "ax.set_ylabel('Actual Values ', fontsize=20);\n",
    "\n",
    "## Ticket labels - List must be in alphabetical order\n",
    "ax.xaxis.set_ticklabels(['Stayed','Churned'])\n",
    "ax.yaxis.set_ticklabels(['Stayed','Churned'])\n",
    "\n",
    "## Display the visualization of the Confusion Matrix.\n",
    "plt.show()"
   ]
  },
  {
   "cell_type": "markdown",
   "metadata": {
    "ExecuteTime": {
     "end_time": "2022-02-24T20:06:40.653045Z",
     "start_time": "2022-02-24T20:06:40.648248Z"
    }
   },
   "source": [
    "## Analysis\n",
    "- My Random Forests model performs better than my Decision Trees in ROC AUC Score and F1 Score.\n",
    "- The Recall Score is a slightly lower than my Decision Trees, but I hope that running a Grid Search will improve this score."
   ]
  },
  {
   "cell_type": "markdown",
   "metadata": {},
   "source": [
    "## GridSearch CV"
   ]
  },
  {
   "cell_type": "code",
   "execution_count": 41,
   "metadata": {
    "ExecuteTime": {
     "end_time": "2022-03-04T05:33:39.445587Z",
     "start_time": "2022-03-04T05:33:39.443491Z"
    }
   },
   "outputs": [],
   "source": [
    "rf_param_grid = {\n",
    "    'n_estimators': [10, 30, 100],\n",
    "    'criterion': ['gini', 'entropy'],\n",
    "    'max_depth': [None, 2, 6, 10],\n",
    "    'min_samples_split': [5, 10],\n",
    "    'min_samples_leaf': [3, 6]\n",
    "}"
   ]
  },
  {
   "cell_type": "code",
   "execution_count": 42,
   "metadata": {
    "ExecuteTime": {
     "end_time": "2022-03-04T05:34:11.380416Z",
     "start_time": "2022-03-04T05:33:39.447053Z"
    }
   },
   "outputs": [
    {
     "name": "stdout",
     "output_type": "stream",
     "text": [
      "\n",
      "Random Forest  Optimal Parameters: {'criterion': 'gini', 'max_depth': None, 'min_samples_leaf': 3, 'min_samples_split': 5, 'n_estimators': 30}\n"
     ]
    }
   ],
   "source": [
    "rf2_clf = RandomForestClassifier(random_state=23)\n",
    "\n",
    "\n",
    "rf1_grid_search= GridSearchCV(rf2_clf, rf_param_grid, scoring = 'recall', cv=3)\n",
    "rf1_grid_search.fit(X_train_resampled, y_train_resampled)\n",
    "\n",
    "print(\"\")\n",
    "print(f\"Random Forest  Optimal Parameters: {rf1_grid_search.best_params_}\")"
   ]
  },
  {
   "cell_type": "markdown",
   "metadata": {},
   "source": [
    "# Random Forests 2 (Using Parameters from GridSearchCV)"
   ]
  },
  {
   "cell_type": "code",
   "execution_count": 74,
   "metadata": {
    "ExecuteTime": {
     "end_time": "2022-03-04T05:36:36.293217Z",
     "start_time": "2022-03-04T05:36:36.127835Z"
    }
   },
   "outputs": [],
   "source": [
    "rf2_clf = RandomForestClassifier(criterion= 'gini', max_depth= None, min_samples_leaf= 3,\n",
    "                                min_samples_split= 5, n_estimators= 30, random_state=23,\n",
    "                                class_weight='balanced')\n",
    "rf2_clf.fit(X_train_resampled, y_train_resampled)\n",
    "rf2_y_pred = rf2_clf.predict(X_test)"
   ]
  },
  {
   "cell_type": "code",
   "execution_count": 75,
   "metadata": {
    "ExecuteTime": {
     "end_time": "2022-03-04T05:36:40.460901Z",
     "start_time": "2022-03-04T05:36:40.446667Z"
    }
   },
   "outputs": [
    {
     "name": "stdout",
     "output_type": "stream",
     "text": [
      "Recall is :81.81818181818183\n",
      "F1 Score is :85.71428571428572\n",
      "ROC AUC is :0.9\n"
     ]
    }
   ],
   "source": [
    "get_metrics(rf2_clf, rf2_y_pred)"
   ]
  },
  {
   "cell_type": "code",
   "execution_count": 45,
   "metadata": {
    "ExecuteTime": {
     "end_time": "2022-03-04T05:34:11.780418Z",
     "start_time": "2022-03-04T05:34:11.513905Z"
    }
   },
   "outputs": [
    {
     "data": {
      "text/plain": [
       "0.9660757934161247"
      ]
     },
     "execution_count": 45,
     "metadata": {},
     "output_type": "execute_result"
    }
   ],
   "source": [
    "rf2_cv_score = np.mean(cross_val_score(rf2_clf, X_train_resampled, y_train_resampled, cv=3))\n",
    "rf2_cv_score"
   ]
  },
  {
   "cell_type": "code",
   "execution_count": 46,
   "metadata": {
    "ExecuteTime": {
     "end_time": "2022-03-04T05:34:11.879695Z",
     "start_time": "2022-03-04T05:34:11.781350Z"
    }
   },
   "outputs": [
    {
     "data": {
      "image/png": "[encoded data removed]",
      "text/plain": [
       "<Figure size 360x360 with 2 Axes>"
      ]
     },
     "metadata": {},
     "output_type": "display_data"
    }
   ],
   "source": [
    "rf2_matrix = confusion_matrix(y_test, rf2_y_pred)\n",
    "\n",
    "fig, ax = plt.subplots(figsize=(5,5))\n",
    "\n",
    "ax = sns.heatmap(rf2_matrix, annot=True, cmap='Reds', fmt='d' )\n",
    "\n",
    "ax.set_title('Random Forests 2 Confusion Matrix', fontsize = 30);\n",
    "ax.set_xlabel('\\nPredicted Values',fontsize = 20)\n",
    "ax.set_ylabel('Actual Values ', fontsize=20);\n",
    "\n",
    "## Ticket labels - List must be in alphabetical order\n",
    "ax.xaxis.set_ticklabels(['Stayed','Churned'])\n",
    "ax.yaxis.set_ticklabels(['Stayed','Churned'])\n",
    "\n",
    "## Display the visualization of the Confusion Matrix.\n",
    "plt.show()"
   ]
  },
  {
   "cell_type": "markdown",
   "metadata": {},
   "source": [
    "## Analysis:\n",
    "- Even though I used GridSearch and set it to prioritize Recall, this model doesn't do as well as the previous ones.\n"
   ]
  },
  {
   "cell_type": "markdown",
   "metadata": {},
   "source": [
    "# XGBOOST Model\n",
    "- I will now try incorporating Gradient Boosting to see if that can improve my model."
   ]
  },
  {
   "cell_type": "code",
   "execution_count": 47,
   "metadata": {
    "ExecuteTime": {
     "end_time": "2022-03-04T05:34:12.105625Z",
     "start_time": "2022-03-04T05:34:11.880754Z"
    }
   },
   "outputs": [],
   "source": [
    "# Instantiate XGBClassifier\n",
    "clf = XGBClassifier(random_state=23)\n",
    "\n",
    "# Fit XGBClassifier\n",
    "xg1 = clf.fit(X_train_resampled, y_train_resampled)\n",
    "\n",
    "# Predict on training and test sets\n",
    "training_preds = clf.predict(X_train_resampled)\n",
    "xg1_y_pred = clf.predict(X_test)"
   ]
  },
  {
   "cell_type": "code",
   "execution_count": 48,
   "metadata": {
    "ExecuteTime": {
     "end_time": "2022-03-04T05:34:12.111622Z",
     "start_time": "2022-03-04T05:34:12.106812Z"
    }
   },
   "outputs": [
    {
     "name": "stdout",
     "output_type": "stream",
     "text": [
      "Recall is :84.29752066115702\n",
      "F1 Score is :91.4798206278027\n",
      "ROC AUC is :0.92\n"
     ]
    }
   ],
   "source": [
    "get_metrics(xg1, xg1_y_pred)"
   ]
  },
  {
   "cell_type": "code",
   "execution_count": 49,
   "metadata": {
    "ExecuteTime": {
     "end_time": "2022-03-04T05:34:12.563763Z",
     "start_time": "2022-03-04T05:34:12.112795Z"
    }
   },
   "outputs": [
    {
     "data": {
      "text/plain": [
       "0.9794115907746895"
      ]
     },
     "execution_count": 49,
     "metadata": {},
     "output_type": "execute_result"
    }
   ],
   "source": [
    "xg1_cv_score = np.mean(cross_val_score(xg1, X_train_resampled, y_train_resampled, cv=3))\n",
    "xg1_cv_score"
   ]
  },
  {
   "cell_type": "markdown",
   "metadata": {},
   "source": [
    "Analysis:\n",
    "- The XGBoost Model performs closer to the Decision Tree Models. It has the highest F1 Score so far, but Recall is still my biggest criteria and it is slightly below Decision Tree 2.\n",
    "- I will run GridSearch CV and see if that improves model performance.  "
   ]
  },
  {
   "cell_type": "markdown",
   "metadata": {},
   "source": [
    "## GridSearch"
   ]
  },
  {
   "cell_type": "code",
   "execution_count": 50,
   "metadata": {
    "ExecuteTime": {
     "end_time": "2022-03-04T05:34:12.567104Z",
     "start_time": "2022-03-04T05:34:12.564980Z"
    }
   },
   "outputs": [],
   "source": [
    "boost_param_grid = {\n",
    "    'learning_rate': [0.1, 0.2],\n",
    "    'max_depth': [6],\n",
    "    'min_child_weight': [1, 2],\n",
    "    'subsample': [0.5, 0.7],\n",
    "    'n_estimators': [100],\n",
    "}"
   ]
  },
  {
   "cell_type": "code",
   "execution_count": 51,
   "metadata": {
    "ExecuteTime": {
     "end_time": "2022-03-04T05:34:15.906684Z",
     "start_time": "2022-03-04T05:34:12.568186Z"
    }
   },
   "outputs": [
    {
     "name": "stdout",
     "output_type": "stream",
     "text": [
      "Grid Search found the following optimal parameters: \n",
      "learning_rate: 0.2\n",
      "max_depth: 6\n",
      "min_child_weight: 1\n",
      "n_estimators: 100\n",
      "subsample: 0.7\n"
     ]
    }
   ],
   "source": [
    "xg2 = XGBClassifier(random_state=23)\n",
    "\n",
    "grid_clf = GridSearchCV(xg2, boost_param_grid, scoring='recall', cv=3, n_jobs=1)\n",
    "grid_clf.fit(X_train_resampled, y_train_resampled)\n",
    "\n",
    "best_parameters = grid_clf.best_params_\n",
    "\n",
    "print('Grid Search found the following optimal parameters: ')\n",
    "for param_name in sorted(best_parameters.keys()):\n",
    "    print('%s: %r' % (param_name, best_parameters[param_name]))\n"
   ]
  },
  {
   "cell_type": "code",
   "execution_count": 52,
   "metadata": {
    "ExecuteTime": {
     "end_time": "2022-03-04T05:34:16.125675Z",
     "start_time": "2022-03-04T05:34:15.907703Z"
    }
   },
   "outputs": [],
   "source": [
    "xg2 = XGBClassifier(learning_rate= 0.2, max_depth=6, min_child_weight=1,\n",
    "                                n_estimators=100, subsample=0.7, random_state=23)\n",
    "xg2.fit(X_train_resampled, y_train_resampled)\n",
    "xg2_y_pred = xg2.predict(X_test)"
   ]
  },
  {
   "cell_type": "code",
   "execution_count": 53,
   "metadata": {
    "ExecuteTime": {
     "end_time": "2022-03-04T05:34:16.132670Z",
     "start_time": "2022-03-04T05:34:16.126639Z"
    }
   },
   "outputs": [
    {
     "name": "stdout",
     "output_type": "stream",
     "text": [
      "Recall is :85.12396694214877\n",
      "F1 Score is :90.35087719298247\n",
      "ROC AUC is :0.92\n"
     ]
    }
   ],
   "source": [
    "get_metrics(xg2, xg2_y_pred)"
   ]
  },
  {
   "cell_type": "code",
   "execution_count": 54,
   "metadata": {
    "ExecuteTime": {
     "end_time": "2022-03-04T05:34:16.586375Z",
     "start_time": "2022-03-04T05:34:16.133829Z"
    }
   },
   "outputs": [
    {
     "data": {
      "text/plain": [
       "0.9761367369735199"
      ]
     },
     "execution_count": 54,
     "metadata": {},
     "output_type": "execute_result"
    }
   ],
   "source": [
    "xg2_cv_score = np.mean(cross_val_score(xg2, X_train_resampled, y_train_resampled, cv=3))\n",
    "xg2_cv_score"
   ]
  },
  {
   "cell_type": "markdown",
   "metadata": {},
   "source": [
    "# Choosing a Final Model"
   ]
  },
  {
   "cell_type": "markdown",
   "metadata": {},
   "source": [
    "<b>XGBoost Model 2 is my best performing model</b>.\n",
    "- It is tied for best Recall Score with Decision Tree 2 at 85.12.\n",
    "- It has the second highest F1 Score at 90.35, just slightly below XGBoost Model 1.\n",
    "- It has the highest Area Under ROC Curve at .9228.\n",
    "\n",
    "<b> XGBoost Model 2 is my final model, and will be used for final analysis and recommendations.</b>"
   ]
  },
  {
   "cell_type": "markdown",
   "metadata": {},
   "source": [
    "# Feature Importance\n",
    "- I will now see which features had the most importance in relation to Churn in my Final Model."
   ]
  },
  {
   "cell_type": "code",
   "execution_count": 55,
   "metadata": {
    "ExecuteTime": {
     "end_time": "2022-03-04T05:34:16.589860Z",
     "start_time": "2022-03-04T05:34:16.587505Z"
    }
   },
   "outputs": [
    {
     "data": {
      "text/plain": [
       "['account_length',\n",
       " 'number_vmail_messages',\n",
       " 'total_day_minutes',\n",
       " 'total_day_calls',\n",
       " 'total_eve_minutes',\n",
       " 'total_eve_calls',\n",
       " 'total_night_minutes',\n",
       " 'total_night_calls',\n",
       " 'total_intl_minutes',\n",
       " 'total_intl_calls',\n",
       " 'total_charge',\n",
       " 'international_plan_yes',\n",
       " 'voice_mail_plan_yes',\n",
       " 'cs_calls_high']"
      ]
     },
     "execution_count": 55,
     "metadata": {},
     "output_type": "execute_result"
    }
   ],
   "source": [
    "feature_names = list(X)\n",
    "feature_names"
   ]
  },
  {
   "cell_type": "code",
   "execution_count": 56,
   "metadata": {
    "ExecuteTime": {
     "end_time": "2022-03-04T05:34:16.613461Z",
     "start_time": "2022-03-04T05:34:16.590859Z"
    }
   },
   "outputs": [
    {
     "data": {
      "text/plain": [
       "array([0.01555622, 0.01647341, 0.01180071, 0.01209497, 0.01489897,\n",
       "       0.01386264, 0.01720872, 0.01302678, 0.02353546, 0.05303666,\n",
       "       0.13529545, 0.19107383, 0.10892226, 0.3732139 ], dtype=float32)"
      ]
     },
     "execution_count": 56,
     "metadata": {},
     "output_type": "execute_result"
    }
   ],
   "source": [
    "xg2_importance = xg2.feature_importances_\n",
    "xg2_importance"
   ]
  },
  {
   "cell_type": "code",
   "execution_count": 57,
   "metadata": {
    "ExecuteTime": {
     "end_time": "2022-03-04T05:34:16.621797Z",
     "start_time": "2022-03-04T05:34:16.614438Z"
    }
   },
   "outputs": [
    {
     "data": {
      "text/html": [
       "<div>\n",
       "<style scoped>\n",
       "    .dataframe tbody tr th:only-of-type {\n",
       "        vertical-align: middle;\n",
       "    }\n",
       "\n",
       "    .dataframe tbody tr th {\n",
       "        vertical-align: top;\n",
       "    }\n",
       "\n",
       "    .dataframe thead th {\n",
       "        text-align: right;\n",
       "    }\n",
       "</style>\n",
       "<table border=\"1\" class=\"dataframe\">\n",
       "  <thead>\n",
       "    <tr style=\"text-align: right;\">\n",
       "      <th></th>\n",
       "      <th>Feature</th>\n",
       "      <th>Importance</th>\n",
       "    </tr>\n",
       "  </thead>\n",
       "  <tbody>\n",
       "    <tr>\n",
       "      <th>13</th>\n",
       "      <td>cs_calls_high</td>\n",
       "      <td>0.373214</td>\n",
       "    </tr>\n",
       "    <tr>\n",
       "      <th>11</th>\n",
       "      <td>international_plan_yes</td>\n",
       "      <td>0.191074</td>\n",
       "    </tr>\n",
       "    <tr>\n",
       "      <th>10</th>\n",
       "      <td>total_charge</td>\n",
       "      <td>0.135295</td>\n",
       "    </tr>\n",
       "    <tr>\n",
       "      <th>12</th>\n",
       "      <td>voice_mail_plan_yes</td>\n",
       "      <td>0.108922</td>\n",
       "    </tr>\n",
       "    <tr>\n",
       "      <th>9</th>\n",
       "      <td>total_intl_calls</td>\n",
       "      <td>0.053037</td>\n",
       "    </tr>\n",
       "    <tr>\n",
       "      <th>8</th>\n",
       "      <td>total_intl_minutes</td>\n",
       "      <td>0.023535</td>\n",
       "    </tr>\n",
       "    <tr>\n",
       "      <th>6</th>\n",
       "      <td>total_night_minutes</td>\n",
       "      <td>0.017209</td>\n",
       "    </tr>\n",
       "    <tr>\n",
       "      <th>1</th>\n",
       "      <td>number_vmail_messages</td>\n",
       "      <td>0.016473</td>\n",
       "    </tr>\n",
       "    <tr>\n",
       "      <th>0</th>\n",
       "      <td>account_length</td>\n",
       "      <td>0.015556</td>\n",
       "    </tr>\n",
       "    <tr>\n",
       "      <th>4</th>\n",
       "      <td>total_eve_minutes</td>\n",
       "      <td>0.014899</td>\n",
       "    </tr>\n",
       "    <tr>\n",
       "      <th>5</th>\n",
       "      <td>total_eve_calls</td>\n",
       "      <td>0.013863</td>\n",
       "    </tr>\n",
       "    <tr>\n",
       "      <th>7</th>\n",
       "      <td>total_night_calls</td>\n",
       "      <td>0.013027</td>\n",
       "    </tr>\n",
       "    <tr>\n",
       "      <th>3</th>\n",
       "      <td>total_day_calls</td>\n",
       "      <td>0.012095</td>\n",
       "    </tr>\n",
       "    <tr>\n",
       "      <th>2</th>\n",
       "      <td>total_day_minutes</td>\n",
       "      <td>0.011801</td>\n",
       "    </tr>\n",
       "  </tbody>\n",
       "</table>\n",
       "</div>"
      ],
      "text/plain": [
       "                   Feature  Importance\n",
       "13           cs_calls_high    0.373214\n",
       "11  international_plan_yes    0.191074\n",
       "10            total_charge    0.135295\n",
       "12     voice_mail_plan_yes    0.108922\n",
       "9         total_intl_calls    0.053037\n",
       "8       total_intl_minutes    0.023535\n",
       "6      total_night_minutes    0.017209\n",
       "1    number_vmail_messages    0.016473\n",
       "0           account_length    0.015556\n",
       "4        total_eve_minutes    0.014899\n",
       "5          total_eve_calls    0.013863\n",
       "7        total_night_calls    0.013027\n",
       "3          total_day_calls    0.012095\n",
       "2        total_day_minutes    0.011801"
      ]
     },
     "execution_count": 57,
     "metadata": {},
     "output_type": "execute_result"
    }
   ],
   "source": [
    "#feature_importance_df = pd.DataFrame(rf2_importance, feature_names)\n",
    "feature_importance_df = pd.DataFrame(xg2_importance, feature_names)\n",
    "feature_importance_df= feature_importance_df.reset_index()\n",
    "feature_importance_df.rename(columns={'index': 'Feature', 0: 'Importance'}, inplace=True)\n",
    "feature_importance_df = feature_importance_df.sort_values('Importance', ascending=False)\n",
    "feature_importance_df"
   ]
  },
  {
   "cell_type": "code",
   "execution_count": 58,
   "metadata": {
    "ExecuteTime": {
     "end_time": "2022-03-04T05:34:17.183993Z",
     "start_time": "2022-03-04T05:34:16.623045Z"
    }
   },
   "outputs": [
    {
     "data": {
      "image/png": "[encoded data removed]",
      "text/plain": [
       "<Figure size 3600x1440 with 1 Axes>"
      ]
     },
     "metadata": {},
     "output_type": "display_data"
    }
   ],
   "source": [
    "# plot feature importance\n",
    "fig, ax = plt.subplots(figsize=(50,20))\n",
    "p = sns.barplot(data=feature_importance_df, x='Importance', y='Feature', color ='mediumseagreen' );\n",
    "p.set_xlabel(\"Importance\", fontsize = 50)\n",
    "\n",
    "p.set_ylabel(\"Feature\", fontsize = 50)\n",
    "plt.xticks(fontsize=40)\n",
    "plt.yticks(fontsize=40)\n",
    "\n",
    "p.set_title(\"Features by Importance\", fontsize = 100)\n",
    "plt.figsize=(30,20) \n",
    "plt.savefig('images/project_3_Feature_Importance')\n",
    "\n",
    "plt.show();"
   ]
  },
  {
   "cell_type": "markdown",
   "metadata": {
    "ExecuteTime": {
     "end_time": "2022-02-24T20:40:08.246291Z",
     "start_time": "2022-02-24T20:40:08.229566Z"
    }
   },
   "source": [
    "## Analysis\n",
    "The Top 4 features with importance in relation to churn are:\n",
    "1. A High Amount of Customer Service Calls\n",
    "2. Whether or not Customer has International Plan.\n",
    "3. Total Charge that Customer has.\n",
    "4. Whether or not Customer has a Voice Mail Plan.\n",
    "\n",
    "All other features have (at most) half of the feature significance as the top 4. However, it is important to note that features 5 & 6 are both related to the International Plan.\n",
    "\n",
    "I will take a closer look at each of these features as they have the most impact on churn by far.\n",
    "\n"
   ]
  },
  {
   "cell_type": "markdown",
   "metadata": {},
   "source": [
    "All other features have (at most) half of the feature significance as the top 4. I will take a closer look at each of these features as they have the most impact on churn by far."
   ]
  },
  {
   "cell_type": "markdown",
   "metadata": {},
   "source": [
    "# Analyzing Churn Rate in Important Features"
   ]
  },
  {
   "cell_type": "markdown",
   "metadata": {},
   "source": [
    "## Customer Service Calls"
   ]
  },
  {
   "cell_type": "code",
   "execution_count": 59,
   "metadata": {
    "ExecuteTime": {
     "end_time": "2022-03-04T05:34:17.187115Z",
     "start_time": "2022-03-04T05:34:17.184940Z"
    }
   },
   "outputs": [],
   "source": [
    "analysis_df = cleaned_df.copy()"
   ]
  },
  {
   "cell_type": "code",
   "execution_count": 60,
   "metadata": {
    "ExecuteTime": {
     "end_time": "2022-03-04T05:34:17.192242Z",
     "start_time": "2022-03-04T05:34:17.188031Z"
    }
   },
   "outputs": [
    {
     "data": {
      "text/plain": [
       "count    3333.000000\n",
       "mean        1.562856\n",
       "std         1.315491\n",
       "min         0.000000\n",
       "25%         1.000000\n",
       "50%         1.000000\n",
       "75%         2.000000\n",
       "max         9.000000\n",
       "Name: customer_service_calls, dtype: float64"
      ]
     },
     "execution_count": 60,
     "metadata": {},
     "output_type": "execute_result"
    }
   ],
   "source": [
    "df.customer_service_calls.describe()"
   ]
  },
  {
   "cell_type": "code",
   "execution_count": 61,
   "metadata": {
    "ExecuteTime": {
     "end_time": "2022-03-04T05:34:17.208466Z",
     "start_time": "2022-03-04T05:34:17.193121Z"
    }
   },
   "outputs": [
    {
     "data": {
      "text/html": [
       "<div>\n",
       "<style scoped>\n",
       "    .dataframe tbody tr th:only-of-type {\n",
       "        vertical-align: middle;\n",
       "    }\n",
       "\n",
       "    .dataframe tbody tr th {\n",
       "        vertical-align: top;\n",
       "    }\n",
       "\n",
       "    .dataframe thead th {\n",
       "        text-align: right;\n",
       "    }\n",
       "</style>\n",
       "<table border=\"1\" class=\"dataframe\">\n",
       "  <thead>\n",
       "    <tr style=\"text-align: right;\">\n",
       "      <th></th>\n",
       "      <th>#_of_calls</th>\n",
       "      <th>churn</th>\n",
       "      <th>#_of_accounts</th>\n",
       "      <th>churn_rate</th>\n",
       "    </tr>\n",
       "  </thead>\n",
       "  <tbody>\n",
       "    <tr>\n",
       "      <th>0</th>\n",
       "      <td>0</td>\n",
       "      <td>92</td>\n",
       "      <td>697</td>\n",
       "      <td>0.131994</td>\n",
       "    </tr>\n",
       "    <tr>\n",
       "      <th>1</th>\n",
       "      <td>1</td>\n",
       "      <td>122</td>\n",
       "      <td>1181</td>\n",
       "      <td>0.103302</td>\n",
       "    </tr>\n",
       "    <tr>\n",
       "      <th>2</th>\n",
       "      <td>2</td>\n",
       "      <td>87</td>\n",
       "      <td>759</td>\n",
       "      <td>0.114625</td>\n",
       "    </tr>\n",
       "    <tr>\n",
       "      <th>3</th>\n",
       "      <td>3</td>\n",
       "      <td>44</td>\n",
       "      <td>429</td>\n",
       "      <td>0.102564</td>\n",
       "    </tr>\n",
       "    <tr>\n",
       "      <th>4</th>\n",
       "      <td>4</td>\n",
       "      <td>76</td>\n",
       "      <td>166</td>\n",
       "      <td>0.457831</td>\n",
       "    </tr>\n",
       "    <tr>\n",
       "      <th>5</th>\n",
       "      <td>5</td>\n",
       "      <td>40</td>\n",
       "      <td>66</td>\n",
       "      <td>0.606061</td>\n",
       "    </tr>\n",
       "    <tr>\n",
       "      <th>6</th>\n",
       "      <td>6</td>\n",
       "      <td>14</td>\n",
       "      <td>22</td>\n",
       "      <td>0.636364</td>\n",
       "    </tr>\n",
       "    <tr>\n",
       "      <th>7</th>\n",
       "      <td>7</td>\n",
       "      <td>5</td>\n",
       "      <td>9</td>\n",
       "      <td>0.555556</td>\n",
       "    </tr>\n",
       "    <tr>\n",
       "      <th>8</th>\n",
       "      <td>8</td>\n",
       "      <td>1</td>\n",
       "      <td>2</td>\n",
       "      <td>0.500000</td>\n",
       "    </tr>\n",
       "    <tr>\n",
       "      <th>9</th>\n",
       "      <td>9</td>\n",
       "      <td>2</td>\n",
       "      <td>2</td>\n",
       "      <td>1.000000</td>\n",
       "    </tr>\n",
       "  </tbody>\n",
       "</table>\n",
       "</div>"
      ],
      "text/plain": [
       "   #_of_calls  churn  #_of_accounts  churn_rate\n",
       "0           0     92            697    0.131994\n",
       "1           1    122           1181    0.103302\n",
       "2           2     87            759    0.114625\n",
       "3           3     44            429    0.102564\n",
       "4           4     76            166    0.457831\n",
       "5           5     40             66    0.606061\n",
       "6           6     14             22    0.636364\n",
       "7           7      5              9    0.555556\n",
       "8           8      1              2    0.500000\n",
       "9           9      2              2    1.000000"
      ]
     },
     "execution_count": 61,
     "metadata": {},
     "output_type": "execute_result"
    }
   ],
   "source": [
    "cs_churn_df = analysis_df.groupby('customer_service_calls')['churn'].sum().reset_index()\n",
    "cs_churn_df = cs_churn_df.rename(columns={\"customer_service_calls\": \"#_of_calls\"})\n",
    "variable_1 = analysis_df['customer_service_calls'].value_counts().reset_index()\n",
    "variable_1 = variable_1.rename(columns={\"index\": \"#_of_calls\", \"customer_service_calls\": \"#_of_accounts\"})\n",
    "cs_churn_df = cs_churn_df.merge(variable_1, on='#_of_calls')\n",
    "churn_rate = cs_churn_df.apply(lambda x: x['churn'] / x['#_of_accounts'], axis=1)\n",
    "cs_churn_df['churn_rate']= churn_rate\n",
    "cs_churn_df"
   ]
  },
  {
   "cell_type": "code",
   "execution_count": 62,
   "metadata": {
    "ExecuteTime": {
     "end_time": "2022-03-04T05:34:17.375442Z",
     "start_time": "2022-03-04T05:34:17.209505Z"
    }
   },
   "outputs": [
    {
     "data": {
      "image/png": "[encoded data removed]",
      "text/plain": [
       "<Figure size 720x720 with 1 Axes>"
      ]
     },
     "metadata": {},
     "output_type": "display_data"
    }
   ],
   "source": [
    "fig, ax = plt.subplots(figsize=(10,10))\n",
    "p = sns.barplot(x=\"#_of_calls\", y=\"churn_rate\", data=cs_churn_df, color='mediumpurple');\n",
    "\n",
    "p.set_xlabel(\"Number of Customer Service Calls\", fontsize = 15)\n",
    "p.set_ylabel(\"Churn Rate\", fontsize = 15)\n",
    "\n",
    "ax.yaxis.set_major_formatter(mtick.PercentFormatter(xmax=1, decimals=None, symbol='%', is_latex=False))\n",
    "p.set_title(\"Churn Rate by Number of Customer Service Calls\", fontsize = 20)\n",
    "plt.figsize=(30,20) \n",
    "line = plt.axhline(y=.145, color='red')\n",
    "plt.savefig('images/project_3_CS_Churn_Rate')\n",
    "ax.legend([line], ['Base Churn Rate - 14.49%'])\n",
    "\n",
    "plt.show();"
   ]
  },
  {
   "cell_type": "markdown",
   "metadata": {},
   "source": [
    "### Analysis:\n",
    "- There is a very strong relationship between the number of Customer Service Calls and Churn Rate.\n",
    "- If there are 0-3 calls, those customers are below the avg. churn rate.\n",
    "- <b>At 4 Calls, the Churn Rate jumps to 45.7%, 4X the avg. churn rate.</b>\n",
    "- The Mode for Customer Service Calls is 1, with 2 or more calls being in the top quartile.\n",
    "- Over Half of all customers make 1 or less customer service calls. (1878 of 3333: 56%)\n",
    "- Hypothesis is that customers that are unhappy (and therefore more likely to cancel their service) are calling customer service more often."
   ]
  },
  {
   "cell_type": "markdown",
   "metadata": {},
   "source": [
    "## International Plan"
   ]
  },
  {
   "cell_type": "code",
   "execution_count": 63,
   "metadata": {
    "ExecuteTime": {
     "end_time": "2022-03-04T05:34:17.387316Z",
     "start_time": "2022-03-04T05:34:17.376556Z"
    }
   },
   "outputs": [
    {
     "data": {
      "text/html": [
       "<div>\n",
       "<style scoped>\n",
       "    .dataframe tbody tr th:only-of-type {\n",
       "        vertical-align: middle;\n",
       "    }\n",
       "\n",
       "    .dataframe tbody tr th {\n",
       "        vertical-align: top;\n",
       "    }\n",
       "\n",
       "    .dataframe thead th {\n",
       "        text-align: right;\n",
       "    }\n",
       "</style>\n",
       "<table border=\"1\" class=\"dataframe\">\n",
       "  <thead>\n",
       "    <tr style=\"text-align: right;\">\n",
       "      <th></th>\n",
       "      <th>stayed</th>\n",
       "      <th>churned</th>\n",
       "      <th>total</th>\n",
       "      <th>churn_rate</th>\n",
       "    </tr>\n",
       "  </thead>\n",
       "  <tbody>\n",
       "    <tr>\n",
       "      <th>churn</th>\n",
       "      <td>0.0</td>\n",
       "      <td>1.0</td>\n",
       "      <td>1.0</td>\n",
       "      <td>1.000000</td>\n",
       "    </tr>\n",
       "    <tr>\n",
       "      <th>international_plan_yes</th>\n",
       "      <td>186.0</td>\n",
       "      <td>137.0</td>\n",
       "      <td>323.0</td>\n",
       "      <td>0.424149</td>\n",
       "    </tr>\n",
       "    <tr>\n",
       "      <th>international_plan_no</th>\n",
       "      <td>2664.0</td>\n",
       "      <td>346.0</td>\n",
       "      <td>3010.0</td>\n",
       "      <td>0.114950</td>\n",
       "    </tr>\n",
       "  </tbody>\n",
       "</table>\n",
       "</div>"
      ],
      "text/plain": [
       "                        stayed  churned   total  churn_rate\n",
       "churn                      0.0      1.0     1.0    1.000000\n",
       "international_plan_yes   186.0    137.0   323.0    0.424149\n",
       "international_plan_no   2664.0    346.0  3010.0    0.114950"
      ]
     },
     "execution_count": 63,
     "metadata": {},
     "output_type": "execute_result"
    }
   ],
   "source": [
    "intl_df = analysis_df[['international_plan_yes', 'international_plan_no', 'churn']]\n",
    "intl_churn_df = intl_df.groupby('churn').sum().reset_index()\n",
    "intl_churn_df = intl_churn_df.transpose()\n",
    "intl_churn_df = intl_churn_df.rename(columns={0: \"stayed\", 1: \"churned\"})\n",
    "intl_churn_df['total'] = intl_churn_df.apply(lambda x: x['stayed'] + x['churned'], axis=1)\n",
    "intl_churn_df['churn_rate'] = intl_churn_df.apply(lambda x: x['churned'] / x['total'], axis=1)\n",
    "intl_churn_df"
   ]
  },
  {
   "cell_type": "code",
   "execution_count": 64,
   "metadata": {
    "ExecuteTime": {
     "end_time": "2022-03-04T05:34:17.391556Z",
     "start_time": "2022-03-04T05:34:17.388327Z"
    }
   },
   "outputs": [],
   "source": [
    "df2 = df.copy()\n",
    "df2 = df2[['international_plan', 'total_intl_minutes', 'total_intl_calls', 'total_intl_charge', \n",
    "          'customer_service_calls', 'total_day_minutes', 'total_day_charge', 'churn']]"
   ]
  },
  {
   "cell_type": "code",
   "execution_count": 65,
   "metadata": {
    "ExecuteTime": {
     "end_time": "2022-03-04T05:34:17.400995Z",
     "start_time": "2022-03-04T05:34:17.392497Z"
    }
   },
   "outputs": [
    {
     "data": {
      "text/html": [
       "<div>\n",
       "<style scoped>\n",
       "    .dataframe tbody tr th:only-of-type {\n",
       "        vertical-align: middle;\n",
       "    }\n",
       "\n",
       "    .dataframe tbody tr th {\n",
       "        vertical-align: top;\n",
       "    }\n",
       "\n",
       "    .dataframe thead th {\n",
       "        text-align: right;\n",
       "    }\n",
       "</style>\n",
       "<table border=\"1\" class=\"dataframe\">\n",
       "  <thead>\n",
       "    <tr style=\"text-align: right;\">\n",
       "      <th></th>\n",
       "      <th>total_intl_minutes</th>\n",
       "      <th>total_intl_calls</th>\n",
       "      <th>total_intl_charge</th>\n",
       "      <th>customer_service_calls</th>\n",
       "      <th>total_day_minutes</th>\n",
       "      <th>total_day_charge</th>\n",
       "      <th>churn</th>\n",
       "    </tr>\n",
       "    <tr>\n",
       "      <th>international_plan</th>\n",
       "      <th></th>\n",
       "      <th></th>\n",
       "      <th></th>\n",
       "      <th></th>\n",
       "      <th></th>\n",
       "      <th></th>\n",
       "      <th></th>\n",
       "    </tr>\n",
       "  </thead>\n",
       "  <tbody>\n",
       "    <tr>\n",
       "      <th>no</th>\n",
       "      <td>10.195349</td>\n",
       "      <td>4.465449</td>\n",
       "      <td>2.753279</td>\n",
       "      <td>1.573422</td>\n",
       "      <td>178.893887</td>\n",
       "      <td>30.412495</td>\n",
       "      <td>0.114950</td>\n",
       "    </tr>\n",
       "    <tr>\n",
       "      <th>yes</th>\n",
       "      <td>10.628173</td>\n",
       "      <td>4.609907</td>\n",
       "      <td>2.869907</td>\n",
       "      <td>1.464396</td>\n",
       "      <td>187.986997</td>\n",
       "      <td>31.958390</td>\n",
       "      <td>0.424149</td>\n",
       "    </tr>\n",
       "  </tbody>\n",
       "</table>\n",
       "</div>"
      ],
      "text/plain": [
       "                    total_intl_minutes  total_intl_calls  total_intl_charge  \\\n",
       "international_plan                                                            \n",
       "no                           10.195349          4.465449           2.753279   \n",
       "yes                          10.628173          4.609907           2.869907   \n",
       "\n",
       "                    customer_service_calls  total_day_minutes  \\\n",
       "international_plan                                              \n",
       "no                                1.573422         178.893887   \n",
       "yes                               1.464396         187.986997   \n",
       "\n",
       "                    total_day_charge     churn  \n",
       "international_plan                              \n",
       "no                         30.412495  0.114950  \n",
       "yes                        31.958390  0.424149  "
      ]
     },
     "execution_count": 65,
     "metadata": {},
     "output_type": "execute_result"
    }
   ],
   "source": [
    "df2.groupby('international_plan').mean()"
   ]
  },
  {
   "cell_type": "markdown",
   "metadata": {},
   "source": [
    "### Analysis:\n",
    "<i>NOTE: Data shows that Customers without the international plan were still able to make international calls. I am operating under the assumption that the data is correct and that there is a seperate International Plan, as indicated bty the \"International Plan\" column. I am also assuming that the data contained in that field is accurate.</i>\n",
    "\n",
    "- only 323 people (9.5% of customers) have international plans. But those that do have a high rate of churn.\n",
    "- <b>churn rate for customers with an international plan is 42.4% vs 11.5% for those without an international plan.</b>\n",
    "- nearly 4X increase in churn rate.\n",
    "- customers without an international plan are actually under the avg. churn rate, but are close to it.\n",
    "- International Minutes and the Number of International Calls were the 5th and 6th most important features. There is definitely something wrong with SyriaTel's International Plan. This will be reflected in my Recommendations."
   ]
  },
  {
   "cell_type": "markdown",
   "metadata": {},
   "source": [
    "## Total Charge"
   ]
  },
  {
   "cell_type": "code",
   "execution_count": 66,
   "metadata": {
    "ExecuteTime": {
     "end_time": "2022-03-04T05:34:17.406984Z",
     "start_time": "2022-03-04T05:34:17.402105Z"
    }
   },
   "outputs": [
    {
     "data": {
      "text/plain": [
       "count    3333.000000\n",
       "mean       59.449754\n",
       "std        10.502261\n",
       "min        22.930000\n",
       "25%        52.380000\n",
       "50%        59.470000\n",
       "75%        66.480000\n",
       "max        96.150000\n",
       "Name: total_charge, dtype: float64"
      ]
     },
     "execution_count": 66,
     "metadata": {},
     "output_type": "execute_result"
    }
   ],
   "source": [
    "analysis_df['total_charge'].describe()"
   ]
  },
  {
   "cell_type": "code",
   "execution_count": 67,
   "metadata": {
    "ExecuteTime": {
     "end_time": "2022-03-04T05:34:17.430181Z",
     "start_time": "2022-03-04T05:34:17.407877Z"
    }
   },
   "outputs": [
    {
     "name": "stderr",
     "output_type": "stream",
     "text": [
      "<ipython-input-67-f666cffbefb5>:2: SettingWithCopyWarning: \n",
      "A value is trying to be set on a copy of a slice from a DataFrame.\n",
      "Try using .loc[row_indexer,col_indexer] = value instead\n",
      "\n",
      "See the caveats in the documentation: https://pandas.pydata.org/pandas-docs/stable/user_guide/indexing.html#returning-a-view-versus-a-copy\n",
      "  charge_df['charge_group'] = pd.qcut(analysis_df['total_charge'], 200)\n"
     ]
    },
    {
     "data": {
      "text/html": [
       "<div>\n",
       "<style scoped>\n",
       "    .dataframe tbody tr th:only-of-type {\n",
       "        vertical-align: middle;\n",
       "    }\n",
       "\n",
       "    .dataframe tbody tr th {\n",
       "        vertical-align: top;\n",
       "    }\n",
       "\n",
       "    .dataframe thead th {\n",
       "        text-align: right;\n",
       "    }\n",
       "</style>\n",
       "<table border=\"1\" class=\"dataframe\">\n",
       "  <thead>\n",
       "    <tr style=\"text-align: right;\">\n",
       "      <th></th>\n",
       "      <th>group_mean</th>\n",
       "      <th>churn</th>\n",
       "    </tr>\n",
       "    <tr>\n",
       "      <th>charge_group</th>\n",
       "      <th></th>\n",
       "      <th></th>\n",
       "    </tr>\n",
       "  </thead>\n",
       "  <tbody>\n",
       "    <tr>\n",
       "      <th>(22.929, 32.497]</th>\n",
       "      <td>28.372353</td>\n",
       "      <td>0.235294</td>\n",
       "    </tr>\n",
       "    <tr>\n",
       "      <th>(32.497, 33.853]</th>\n",
       "      <td>33.329412</td>\n",
       "      <td>0.117647</td>\n",
       "    </tr>\n",
       "    <tr>\n",
       "      <th>(33.853, 35.72]</th>\n",
       "      <td>34.832500</td>\n",
       "      <td>0.062500</td>\n",
       "    </tr>\n",
       "    <tr>\n",
       "      <th>(35.72, 37.436]</th>\n",
       "      <td>36.645882</td>\n",
       "      <td>0.058824</td>\n",
       "    </tr>\n",
       "    <tr>\n",
       "      <th>(37.436, 38.752]</th>\n",
       "      <td>38.102941</td>\n",
       "      <td>0.000000</td>\n",
       "    </tr>\n",
       "  </tbody>\n",
       "</table>\n",
       "</div>"
      ],
      "text/plain": [
       "                  group_mean     churn\n",
       "charge_group                          \n",
       "(22.929, 32.497]   28.372353  0.235294\n",
       "(32.497, 33.853]   33.329412  0.117647\n",
       "(33.853, 35.72]    34.832500  0.062500\n",
       "(35.72, 37.436]    36.645882  0.058824\n",
       "(37.436, 38.752]   38.102941  0.000000"
      ]
     },
     "execution_count": 67,
     "metadata": {},
     "output_type": "execute_result"
    }
   ],
   "source": [
    "charge_df = analysis_df[['total_charge', 'churn']]\n",
    "charge_df['charge_group'] = pd.qcut(analysis_df['total_charge'], 200)\n",
    "group_counts = charge_df.charge_group.value_counts().reset_index()\n",
    "group_counts = group_counts.rename(columns={\"index\": \"charge_group\", \"charge_group\": \"#_of_accounts\"})\n",
    "charge_df= charge_df.groupby('charge_group').mean()\n",
    "charge_df= charge_df.rename(columns={'total_charge': 'group_mean'})\n",
    "charge_df.head()\n",
    "\n"
   ]
  },
  {
   "cell_type": "code",
   "execution_count": 68,
   "metadata": {
    "ExecuteTime": {
     "end_time": "2022-03-04T05:34:17.453811Z",
     "start_time": "2022-03-04T05:34:17.442328Z"
    }
   },
   "outputs": [
    {
     "data": {
      "text/html": [
       "<div>\n",
       "<style scoped>\n",
       "    .dataframe tbody tr th:only-of-type {\n",
       "        vertical-align: middle;\n",
       "    }\n",
       "\n",
       "    .dataframe tbody tr th {\n",
       "        vertical-align: top;\n",
       "    }\n",
       "\n",
       "    .dataframe thead th {\n",
       "        text-align: right;\n",
       "    }\n",
       "</style>\n",
       "<table border=\"1\" class=\"dataframe\">\n",
       "  <thead>\n",
       "    <tr style=\"text-align: right;\">\n",
       "      <th></th>\n",
       "      <th>charge_group</th>\n",
       "      <th>group_mean</th>\n",
       "      <th>churn</th>\n",
       "      <th>#_of_accounts</th>\n",
       "    </tr>\n",
       "  </thead>\n",
       "  <tbody>\n",
       "    <tr>\n",
       "      <th>0</th>\n",
       "      <td>(22.929, 32.497]</td>\n",
       "      <td>28.372353</td>\n",
       "      <td>0.235294</td>\n",
       "      <td>17</td>\n",
       "    </tr>\n",
       "    <tr>\n",
       "      <th>1</th>\n",
       "      <td>(32.497, 33.853]</td>\n",
       "      <td>33.329412</td>\n",
       "      <td>0.117647</td>\n",
       "      <td>17</td>\n",
       "    </tr>\n",
       "    <tr>\n",
       "      <th>2</th>\n",
       "      <td>(33.853, 35.72]</td>\n",
       "      <td>34.832500</td>\n",
       "      <td>0.062500</td>\n",
       "      <td>16</td>\n",
       "    </tr>\n",
       "    <tr>\n",
       "      <th>3</th>\n",
       "      <td>(35.72, 37.436]</td>\n",
       "      <td>36.645882</td>\n",
       "      <td>0.058824</td>\n",
       "      <td>17</td>\n",
       "    </tr>\n",
       "    <tr>\n",
       "      <th>4</th>\n",
       "      <td>(37.436, 38.752]</td>\n",
       "      <td>38.102941</td>\n",
       "      <td>0.000000</td>\n",
       "      <td>17</td>\n",
       "    </tr>\n",
       "  </tbody>\n",
       "</table>\n",
       "</div>"
      ],
      "text/plain": [
       "       charge_group  group_mean     churn  #_of_accounts\n",
       "0  (22.929, 32.497]   28.372353  0.235294             17\n",
       "1  (32.497, 33.853]   33.329412  0.117647             17\n",
       "2   (33.853, 35.72]   34.832500  0.062500             16\n",
       "3   (35.72, 37.436]   36.645882  0.058824             17\n",
       "4  (37.436, 38.752]   38.102941  0.000000             17"
      ]
     },
     "execution_count": 68,
     "metadata": {},
     "output_type": "execute_result"
    }
   ],
   "source": [
    "charge_df = charge_df.reset_index()\n",
    "charge_df = charge_df.merge(group_counts, on='charge_group')\n",
    "charge_df.head()"
   ]
  },
  {
   "cell_type": "code",
   "execution_count": 69,
   "metadata": {
    "ExecuteTime": {
     "end_time": "2022-03-04T05:34:17.641500Z",
     "start_time": "2022-03-04T05:34:17.460568Z"
    }
   },
   "outputs": [
    {
     "data": {
      "image/png": "[encoded data removed]",
      "text/plain": [
       "<Figure size 720x720 with 1 Axes>"
      ]
     },
     "metadata": {},
     "output_type": "display_data"
    }
   ],
   "source": [
    "import matplotlib.ticker as mtick\n",
    "\n",
    "fig, ax = plt.subplots(figsize=(10,10))\n",
    "p = sns.scatterplot(x=\"group_mean\", y=\"churn\", data=charge_df);\n",
    "\n",
    "p.set_xlabel(\"Total Charge: Mean Value\", fontsize = 15)\n",
    "p.set_ylabel(\"Churn Rate\", fontsize = 15)\n",
    "ax.yaxis.set_major_formatter(mtick.PercentFormatter(xmax=1, decimals=None, symbol='%', is_latex=False))\n",
    "#p.xaxis.set_major_formatter(display_millions)\n",
    "ax.xaxis.set_major_formatter('${x:1.2f}')\n",
    "\n",
    "p.set_title(\"Churn Rate by Total Charge\", fontsize = 20)\n",
    "plt.figsize=(30,20) \n",
    "\n",
    "line_1 = plt.axhline(y=.145, color='firebrick')\n",
    "line_2 = plt.axhline(y=0, color='black')\n",
    "line_3 = plt.axvline(x=59.45, linestyle='--',color='mediumseagreen')\n",
    "#line_4 = plt.axvline(x=74.00, color='skyblue')\n",
    "\n",
    "ax.legend([line_1, line_3], ['Regular Churn Line', 'Mean Bill Charge'])\n",
    "plt.savefig('images/project_3_total_charge_churn')\n",
    "\n",
    "\n",
    "plt.show();"
   ]
  },
  {
   "cell_type": "markdown",
   "metadata": {},
   "source": [
    "### Analysis\n",
    "- Total Charge of $74 per month leads to Churn Rate of roughly 70% or greater!\n",
    "- This affects aprox 240 customers (15 groups of 16)\n",
    "- While there a a good amount of customers above the average churn line, if you add an extra 10%, almost all are within that range until you get to the extreme outliers."
   ]
  },
  {
   "cell_type": "markdown",
   "metadata": {},
   "source": [
    "## Voice Mail Plan"
   ]
  },
  {
   "cell_type": "code",
   "execution_count": 70,
   "metadata": {
    "ExecuteTime": {
     "end_time": "2022-03-04T05:34:17.652558Z",
     "start_time": "2022-03-04T05:34:17.642904Z"
    }
   },
   "outputs": [
    {
     "data": {
      "text/html": [
       "<div>\n",
       "<style scoped>\n",
       "    .dataframe tbody tr th:only-of-type {\n",
       "        vertical-align: middle;\n",
       "    }\n",
       "\n",
       "    .dataframe tbody tr th {\n",
       "        vertical-align: top;\n",
       "    }\n",
       "\n",
       "    .dataframe thead th {\n",
       "        text-align: right;\n",
       "    }\n",
       "</style>\n",
       "<table border=\"1\" class=\"dataframe\">\n",
       "  <thead>\n",
       "    <tr style=\"text-align: right;\">\n",
       "      <th></th>\n",
       "      <th>stayed</th>\n",
       "      <th>churned</th>\n",
       "      <th>total</th>\n",
       "      <th>churn_rate</th>\n",
       "    </tr>\n",
       "  </thead>\n",
       "  <tbody>\n",
       "    <tr>\n",
       "      <th>voice_mail_plan_yes</th>\n",
       "      <td>842.0</td>\n",
       "      <td>80.0</td>\n",
       "      <td>922.0</td>\n",
       "      <td>0.086768</td>\n",
       "    </tr>\n",
       "    <tr>\n",
       "      <th>voice_mail_plan_no</th>\n",
       "      <td>2008.0</td>\n",
       "      <td>403.0</td>\n",
       "      <td>2411.0</td>\n",
       "      <td>0.167151</td>\n",
       "    </tr>\n",
       "  </tbody>\n",
       "</table>\n",
       "</div>"
      ],
      "text/plain": [
       "                     stayed  churned   total  churn_rate\n",
       "voice_mail_plan_yes   842.0     80.0   922.0    0.086768\n",
       "voice_mail_plan_no   2008.0    403.0  2411.0    0.167151"
      ]
     },
     "execution_count": 70,
     "metadata": {},
     "output_type": "execute_result"
    }
   ],
   "source": [
    "vm_df = analysis_df[['voice_mail_plan_yes', 'voice_mail_plan_no', 'churn']]\n",
    "vm_df = vm_df.groupby('churn').sum().reset_index()\n",
    "vm_df = vm_df.transpose()\n",
    "vm_df = vm_df.rename(columns={0: \"stayed\", 1: \"churned\"})\n",
    "vm_df['total'] = vm_df.apply(lambda x: x['stayed'] + x['churned'], axis=1)\n",
    "vm_df['churn_rate'] = vm_df.apply(lambda x: x['churned'] / x['total'], axis=1)\n",
    "vm_df[1:3]"
   ]
  },
  {
   "cell_type": "markdown",
   "metadata": {},
   "source": [
    "### Analysis:\n",
    "\n",
    "- 323 people (27.6% of customers) have a voicemail plan.\n",
    "- <b>Customers that do NOT have a voicemail plan have twice the churn rate of customers that do.</b>\n",
    "- The churn rate for customers without voicemail is slightly higher than the base churn rate, but since the churn rate for customers with voicemail is significantly lower, that gives this good overall significance.\n"
   ]
  },
  {
   "cell_type": "markdown",
   "metadata": {},
   "source": [
    "# Conclusions"
   ]
  },
  {
   "cell_type": "markdown",
   "metadata": {},
   "source": [
    "## Questions to Answer: Revisited"
   ]
  },
  {
   "cell_type": "markdown",
   "metadata": {},
   "source": [
    "### What is the Baseline Churn Rate?\n",
    "- <b>14.49%</b>\n",
    "- This is the percentage of churn that occured in the dataset I was provided."
   ]
  },
  {
   "cell_type": "markdown",
   "metadata": {},
   "source": [
    "### What Factors Contribute to Churn? Which has the biggest impact?"
   ]
  },
  {
   "cell_type": "code",
   "execution_count": 71,
   "metadata": {
    "ExecuteTime": {
     "end_time": "2022-03-04T05:34:17.662138Z",
     "start_time": "2022-03-04T05:34:17.653777Z"
    }
   },
   "outputs": [
    {
     "data": {
      "text/html": [
       "<div>\n",
       "<style scoped>\n",
       "    .dataframe tbody tr th:only-of-type {\n",
       "        vertical-align: middle;\n",
       "    }\n",
       "\n",
       "    .dataframe tbody tr th {\n",
       "        vertical-align: top;\n",
       "    }\n",
       "\n",
       "    .dataframe thead th {\n",
       "        text-align: right;\n",
       "    }\n",
       "</style>\n",
       "<table border=\"1\" class=\"dataframe\">\n",
       "  <thead>\n",
       "    <tr style=\"text-align: right;\">\n",
       "      <th></th>\n",
       "      <th>Feature</th>\n",
       "      <th>Importance</th>\n",
       "    </tr>\n",
       "  </thead>\n",
       "  <tbody>\n",
       "    <tr>\n",
       "      <th>13</th>\n",
       "      <td>cs_calls_high</td>\n",
       "      <td>0.373214</td>\n",
       "    </tr>\n",
       "    <tr>\n",
       "      <th>11</th>\n",
       "      <td>international_plan_yes</td>\n",
       "      <td>0.191074</td>\n",
       "    </tr>\n",
       "    <tr>\n",
       "      <th>10</th>\n",
       "      <td>total_charge</td>\n",
       "      <td>0.135295</td>\n",
       "    </tr>\n",
       "    <tr>\n",
       "      <th>12</th>\n",
       "      <td>voice_mail_plan_yes</td>\n",
       "      <td>0.108922</td>\n",
       "    </tr>\n",
       "  </tbody>\n",
       "</table>\n",
       "</div>"
      ],
      "text/plain": [
       "                   Feature  Importance\n",
       "13           cs_calls_high    0.373214\n",
       "11  international_plan_yes    0.191074\n",
       "10            total_charge    0.135295\n",
       "12     voice_mail_plan_yes    0.108922"
      ]
     },
     "execution_count": 71,
     "metadata": {},
     "output_type": "execute_result"
    }
   ],
   "source": [
    "feature_importance_df[0:4]"
   ]
  },
  {
   "cell_type": "markdown",
   "metadata": {},
   "source": [
    "<b>The 4 factors that have the biggest impact on Churn (in order) are:</b>\n",
    "1. Total Amount Charged\n",
    "2. A High Number of Customer Service Calls.\n",
    "3. Customer having an international plan.\n",
    "4. Customer not having a voicemail plan.\n",
    "- All other features have significantly less impact on Churn. (<.05 importance)"
   ]
  },
  {
   "cell_type": "markdown",
   "metadata": {},
   "source": [
    "### What can be done to identify when a customer is at risk for churn?\n",
    "Based on my analysis, here is where customers \"cross the line\" into being at a high risk for churn:\n",
    "- Having a <b>Total Charge of $74</b> or more.\n",
    "- Calling Customer Service <b>4 or more</b> times.\n",
    "- Having an international plan.\n",
    "- Not Having a Voice Mail plan."
   ]
  },
  {
   "cell_type": "markdown",
   "metadata": {},
   "source": [
    "# Recommendations"
   ]
  },
  {
   "cell_type": "markdown",
   "metadata": {},
   "source": [
    "## Recommendation #1: Increased Focus on Customer Service.\n",
    "- There is a sharp increase in Churn when a Customer reaches their 4th call to customer service. In order to retain more customers, <b>SyriaTel should focus on resolving whatever issues that customers bring up with Customer Service. If all questions are answered, and issues are explained and addressed, this should lead to happier customers, less customer service calls, and less churn.</b>\n",
    "- Of course, the call itself isn't the issue. Customer service calls are a sign that something is wrong, and the more that a customer calls, the more likely they are to be having problems with the service and/or paying their bills.\n",
    "- I recommend that SyriaTel analyze any data that they have on Customer Service calls to see what issues customers were bringing up and at what frequency. Proactively dealing with these issues will likely cause a decrease in churn."
   ]
  },
  {
   "cell_type": "markdown",
   "metadata": {
    "ExecuteTime": {
     "end_time": "2022-02-25T17:48:45.978185Z",
     "start_time": "2022-02-25T17:48:45.973377Z"
    }
   },
   "source": [
    "## Recommendation #2: Take a good look at your international plan and see why it increases the amount of Churn"
   ]
  },
  {
   "cell_type": "markdown",
   "metadata": {},
   "source": [
    "- Customers without the international plan are able to make international calls.\n",
    "- Customers with the international plan end up leaving. \n",
    "- I don't have data on how much the international plan costs or how it is used, but it is causing higher churn.\n",
    "- Perhaps it costs too much, or doesn't give an advantage over not having the plan, or is inferior to the competition.\n",
    "- International Minutes and Number of International Calls also have feature importance as well so they should also be investigated."
   ]
  },
  {
   "cell_type": "markdown",
   "metadata": {},
   "source": [
    "## Recommendation #3: Offer a Flat Price Model to Combat High Customer Charges\n",
    "- Making more money is good, but there is a strong correlation between churn and high charge. This indicates that customers are likely being charged per minute. SyriaTel would ultimately make MORE money by RETAINING the customers that they already have.\n",
    "- By charging a flat fee, it eliminates any surprise that the customer has, which should result in less customer service calls, and less churn.\n",
    "- The flat fee could be offered in tiers.\n",
    "- The point of this recommendation is that customers know how much their bill is each month, even if they go over on minutes, etc."
   ]
  },
  {
   "cell_type": "markdown",
   "metadata": {},
   "source": [
    "## Recommendation #4: Encourage Customers to get a Voice Mail Plan"
   ]
  },
  {
   "cell_type": "markdown",
   "metadata": {},
   "source": [
    "- Also, analyze to see why there is such a big difference in churn rate when customers don't have a voice mail plan."
   ]
  },
  {
   "cell_type": "markdown",
   "metadata": {
    "ExecuteTime": {
     "end_time": "2022-02-25T17:46:31.369508Z",
     "start_time": "2022-02-25T17:46:31.361194Z"
    }
   },
   "source": [
    "## Recommendation #5: Set up a system which identifies when a customer is getting close to any of the thresholds identified above.\n",
    "\n",
    "<i>Please Note: These recommenations are based on the way that everything is currently set up. If my other recommendations are followed, many of these issues would already be taken care of.</i>"
   ]
  },
  {
   "cell_type": "markdown",
   "metadata": {},
   "source": [
    "### Green: Low Risk of Customer Churn.\n",
    "- 0-1 Customer Service Calls.\n",
    "- Customer Bill is $60/month or less.\n",
    "- Customer does not have International Plan.\n",
    "- Customer has Voice Mail Plan"
   ]
  },
  {
   "cell_type": "markdown",
   "metadata": {},
   "source": [
    "### Yellow: Account is begining to show warning signs of churn. \n",
    "- 2-3 Customer Service Calls\n",
    "- Customer Bill is above $60/month (the mean value)"
   ]
  },
  {
   "cell_type": "markdown",
   "metadata": {},
   "source": [
    "### Red: Account is at high risk of churn.\n",
    "- 4 or more Customer Service Calls\n",
    "- Customer Monthly Bill is at $74 or higher.\n",
    "- Customer has International Plan (in it's current form. See Recommendation #2)\n",
    "- Customer does not have a Voice Mail Plan"
   ]
  },
  {
   "cell_type": "markdown",
   "metadata": {
    "ExecuteTime": {
     "end_time": "2022-02-24T17:37:20.800135Z",
     "start_time": "2022-02-24T17:37:20.748929Z"
    }
   },
   "source": [
    "# Summary"
   ]
  },
  {
   "cell_type": "markdown",
   "metadata": {},
   "source": [
    "I was tasked with analyzing the data provided to me by SyriaTel in relation to customers leaving their service. In doing so, I determined that the most important questions to answer were:\n",
    "1. What is the Baseline Churn Rate?\n",
    "2. Which features contribute to churn?\n",
    "3. Which features have the biggest impact on churn?\n",
    "4. What can be done to identify when a customer is at risk for churn?\n",
    "5. What can be done to prevent churn?"
   ]
  },
  {
   "cell_type": "markdown",
   "metadata": {},
   "source": [
    "After developing an appropriate model (XGBoost, using GridSearch CV to tune parameters), I was able to determine that the 4 features with the largest impact on customer churn were:\n",
    "1. Total Charge\n",
    "2. High Amount of Customer Service Calls\n",
    "3. The presence of an International Plan.\n",
    "4. The presence of a Voice Mail Plan."
   ]
  },
  {
   "cell_type": "markdown",
   "metadata": {},
   "source": [
    "Based on these factors, I made the following recommendations for SyriaTel to implement in order to greatly reduce the amount of churn:\n",
    "1. Improve Customer Service: Get to the root of customers' issues and resolve them.\n",
    "2. Take a good look at the international plan that is currently offered and see why customers who have it have such a high rate of churn. Change the plan as necessary to prevent this from happening going forward.\n",
    "3. Change the pricing model from \"minutes used\" to a flat rate service so that customers will know what to expect to pay each month, while still retaining profit for SyriaTel.\n",
    "4. Incentivize getting a VoiceMail Plan. Also investigate why it helps retain customers.\n",
    "5. Put a system into place for identifying when a customer is at high risk for churn and then be proactive in intervening and helping fix anything that may be leading to churn."
   ]
  },
  {
   "cell_type": "markdown",
   "metadata": {},
   "source": [
    "<b>SyriaTel will always have to deal with churn, but if they deal with the features which have the greatest impact on churn, their average churn rate will be significantly lower. I have also provided some metrics for them to use to better identify when customers are at an increased chance of churn.</b>"
   ]
  },
  {
   "cell_type": "code",
   "execution_count": null,
   "metadata": {},
   "outputs": [],
   "source": []
  }
 ],
 "metadata": {
  "kernelspec": {
   "display_name": "Python (learn-env)",
   "language": "python",
   "name": "learn-env"
  },
  "language_info": {
   "codemirror_mode": {
    "name": "ipython",
    "version": 3
   },
   "file_extension": ".py",
   "mimetype": "text/x-python",
   "name": "python",
   "nbconvert_exporter": "python",
   "pygments_lexer": "ipython3",
   "version": "3.8.5"
  },
  "toc": {
   "base_numbering": 1,
   "nav_menu": {},
   "number_sections": true,
   "sideBar": true,
   "skip_h1_title": false,
   "title_cell": "Table of Contents",
   "title_sidebar": "Contents",
   "toc_cell": false,
   "toc_position": {
    "height": "calc(100% - 180px)",
    "left": "10px",
    "top": "150px",
    "width": "288px"
   },
   "toc_section_display": true,
   "toc_window_display": true
  },
  "varInspector": {
   "cols": {
    "lenName": 16,
    "lenType": 16,
    "lenVar": 40
   },
   "kernels_config": {
    "python": {
     "delete_cmd_postfix": "",
     "delete_cmd_prefix": "del ",
     "library": "var_list.py",
     "varRefreshCmd": "print(var_dic_list())"
    },
    "r": {
     "delete_cmd_postfix": ") ",
     "delete_cmd_prefix": "rm(",
     "library": "var_list.r",
     "varRefreshCmd": "cat(var_dic_list()) "
    }
   },
   "types_to_exclude": [
    "module",
    "function",
    "builtin_function_or_method",
    "instance",
    "_Feature"
   ],
   "window_display": false
  }
 },
 "nbformat": 4,
 "nbformat_minor": 4
}
